{
  "nbformat": 4,
  "nbformat_minor": 0,
  "metadata": {
    "kernelspec": {
      "display_name": "Python 3",
      "language": "python",
      "name": "python3"
    },
    "language_info": {
      "codemirror_mode": {
        "name": "ipython",
        "version": 3
      },
      "file_extension": ".py",
      "mimetype": "text/x-python",
      "name": "python",
      "nbconvert_exporter": "python",
      "pygments_lexer": "ipython3",
      "version": "3.7.1"
    },
    "colab": {
      "name": "2_Linear_Algebra-Matrices.ipynb",
      "provenance": [],
      "collapsed_sections": [],
      "include_colab_link": true
    }
  },
  "cells": [
    {
      "cell_type": "markdown",
      "metadata": {
        "id": "view-in-github",
        "colab_type": "text"
      },
      "source": [
        "<a href=\"https://colab.research.google.com/github/samp-suman/My-Files/blob/master/2_Linear_Algebra_Matrices.ipynb\" target=\"_parent\"><img src=\"https://colab.research.google.com/assets/colab-badge.svg\" alt=\"Open In Colab\"/></a>"
      ]
    },
    {
      "cell_type": "markdown",
      "metadata": {
        "id": "T_zGnyngrTSs",
        "colab_type": "text"
      },
      "source": [
        "# Introduction to Matrices\n",
        "In general terms, a matrix is an array of numbers that are arranged into rows and columns.\n",
        "\n",
        "## Matrices and Matrix Notation\n",
        "A matrix arranges numbers into rows and columns, like this:\n",
        "\n",
        "\\begin{equation}A = \\begin{bmatrix}\n",
        "  1 & 2 & 3 \\\\\n",
        "  4 & 5 & 6\n",
        " \\end{bmatrix}\n",
        "\\end{equation}\n",
        "\n",
        "Note that matrices are generally named as a capital letter. We refer to the *elements* of the matrix using the lower case equivalent with a subscript row and column indicator, like this:\n",
        "\n",
        "\\begin{equation}A = \\begin{bmatrix}\n",
        "  a_{1,1} & a_{1,2} & a_{1,3} \\\\\n",
        "  a_{2,1} & a_{2,2} & a_{2,3}\n",
        " \\end{bmatrix}\n",
        "\\end{equation}\n",
        "\n",
        "In Python, you can define a matrix as a 2-dimensional ***numpy.array***, like this:"
      ]
    },
    {
      "cell_type": "code",
      "metadata": {
        "id": "wpRUCD5JrTSw",
        "colab_type": "code",
        "colab": {}
      },
      "source": [
        "import numpy as np\n",
        "\n",
        "A = np.array([[1,2,3],\n",
        "              [4,5,6]])\n",
        "print (A)"
      ],
      "execution_count": 0,
      "outputs": []
    },
    {
      "cell_type": "markdown",
      "metadata": {
        "id": "PSueGPaYrTS2",
        "colab_type": "text"
      },
      "source": [
        "You can also use the ***numpy.matrix*** type, which is a specialist subclass of ***array***:"
      ]
    },
    {
      "cell_type": "code",
      "metadata": {
        "id": "xg53KJPnrTS3",
        "colab_type": "code",
        "outputId": "f8e39934-b6c1-48f1-9800-eb89bb13baca",
        "colab": {
          "base_uri": "https://localhost:8080/",
          "height": 51
        }
      },
      "source": [
        "M = np.matrix([[1,2,3],\n",
        "               [4,5,6]])\n",
        "print (M)"
      ],
      "execution_count": 0,
      "outputs": [
        {
          "output_type": "stream",
          "text": [
            "[[1 2 3]\n",
            " [4 5 6]]\n"
          ],
          "name": "stdout"
        }
      ]
    },
    {
      "cell_type": "markdown",
      "metadata": {
        "id": "sTdiQD4zrTS6",
        "colab_type": "text"
      },
      "source": [
        "There are some differences in behavior between ***array*** and ***matrix*** types - particularly with regards to multiplication (which we'll explore later). You can use either, but most experienced Python programmers who need to work with both vectors and matrices tend to prefer the ***array*** type for consistency."
      ]
    },
    {
      "cell_type": "markdown",
      "metadata": {
        "id": "lecMl3i4rTS7",
        "colab_type": "text"
      },
      "source": [
        "## Matrix Operations\n",
        "Matrices support common arithmetic operations.\n",
        "\n",
        "### Adding Matrices\n",
        "To add two matrices of the same size together, just add the corresponding elements in each matrix:\n",
        "\n",
        "\\begin{equation}\\begin{bmatrix}1 & 2 & 3 \\\\4 & 5 & 6\\end{bmatrix}+ \\begin{bmatrix}6 & 5 & 4 \\\\3 & 2 & 1\\end{bmatrix} = \\begin{bmatrix}7 & 7 & 7 \\\\7 & 7 & 7\\end{bmatrix}\\end{equation}\n",
        "\n",
        "In this example, we're adding two matrices (let's call them ***A*** and ***B***). Each matrix has two rows of three columns (so we describe them as 2x3 matrices). Adding these will create a new matrix of the same dimensions with the values a<sub>1,1</sub> + b<sub>1,1</sub>, a<sub>1,2</sub> + b<sub>1,2</sub>, a<sub>1,3</sub> + b<sub>1,3</sub>,a<sub>2,1</sub> + b<sub>2,1</sub>, a<sub>2,2</sub> + b<sub>2,2</sub>, and a<sub>2,3</sub> + b<sub>2,3</sub>. In this instance, each pair of corresponding elements(1 and 6, 2, and 5, 3 and 4, etc.) adds up to 7.\n",
        "\n",
        "Let's try that with Python:"
      ]
    },
    {
      "cell_type": "code",
      "metadata": {
        "id": "zgaI50O4rTS8",
        "colab_type": "code",
        "outputId": "4a6ccee6-f2d0-4ab3-953c-9b9c6ae07701",
        "colab": {
          "base_uri": "https://localhost:8080/",
          "height": 51
        }
      },
      "source": [
        "\n",
        "A = np.array([[1,2,3],\n",
        "              [4,5,6]])\n",
        "B = np.array([[6,5,4],\n",
        "              [3,2,1]])\n",
        "print(A + B)"
      ],
      "execution_count": 0,
      "outputs": [
        {
          "output_type": "stream",
          "text": [
            "[[7 7 7]\n",
            " [7 7 7]]\n"
          ],
          "name": "stdout"
        }
      ]
    },
    {
      "cell_type": "markdown",
      "metadata": {
        "id": "6GWD0i2KrTS_",
        "colab_type": "text"
      },
      "source": [
        "### Subtracting Matrices\n",
        "Matrix subtraction works similarly to matrix addition:\n",
        "\n",
        "\\begin{equation}\\begin{bmatrix}1 & 2 & 3 \\\\4 & 5 & 6\\end{bmatrix}- \\begin{bmatrix}6 & 5 & 4 \\\\3 & 2 & 1\\end{bmatrix} = \\begin{bmatrix}-5 & -3 & -1 \\\\1 & 3 & 5\\end{bmatrix}\\end{equation}\n",
        "\n",
        "Here's the Python code to do this:"
      ]
    },
    {
      "cell_type": "code",
      "metadata": {
        "id": "7TIT3ZwvrTTA",
        "colab_type": "code",
        "outputId": "f8a75e5c-4eca-48d8-be6e-227b4e53e1f8",
        "colab": {
          "base_uri": "https://localhost:8080/",
          "height": 51
        }
      },
      "source": [
        "\n",
        "A = np.array([[1,2,3],\n",
        "              [4,5,6]])\n",
        "B = np.array([[6,5,4],\n",
        "              [3,2,1]])\n",
        "print (A - B)"
      ],
      "execution_count": 0,
      "outputs": [
        {
          "output_type": "stream",
          "text": [
            "[[-5 -3 -1]\n",
            " [ 1  3  5]]\n"
          ],
          "name": "stdout"
        }
      ]
    },
    {
      "cell_type": "markdown",
      "metadata": {
        "id": "PnSH_ujqrTTD",
        "colab_type": "text"
      },
      "source": [
        "#### Conformability\n",
        "In the previous examples, we were able to add and subtract the matrices, because the *operands* (the matrices we are operating on) are ***conformable*** for the specific operation (in this case, addition or subtraction). To be conformable for addition and subtraction, the operands must have the same number of rows and columns. There are different conformability requirements for other operations, such as multiplication; which we'll explore later."
      ]
    },
    {
      "cell_type": "markdown",
      "metadata": {
        "id": "btDM3_bhrTTE",
        "colab_type": "text"
      },
      "source": [
        "### Negative Matrices\n",
        "The nagative of a matrix, is just a matrix with the sign of each element reversed:\n",
        "\n",
        "\\begin{equation}C = \\begin{bmatrix}-5 & -3 & -1 \\\\1 & 3 & 5\\end{bmatrix}\\end{equation}\n",
        "\n",
        "\\begin{equation}-C = \\begin{bmatrix}5 & 3 & 1 \\\\-1 & -3 & -5\\end{bmatrix}\\end{equation}\n",
        "\n",
        "Let's see that with Python:"
      ]
    },
    {
      "cell_type": "code",
      "metadata": {
        "id": "Fr7Q1u9mrTTE",
        "colab_type": "code",
        "outputId": "e5a72679-aeb7-4c4e-f17e-16e1ed7926a8",
        "colab": {
          "base_uri": "https://localhost:8080/",
          "height": 85
        }
      },
      "source": [
        "C = np.array([[-5,-3,-1],\n",
        "              [1,3,5]])\n",
        "print (C)\n",
        "print (-C)"
      ],
      "execution_count": 0,
      "outputs": [
        {
          "output_type": "stream",
          "text": [
            "[[-5 -3 -1]\n",
            " [ 1  3  5]]\n",
            "[[ 5  3  1]\n",
            " [-1 -3 -5]]\n"
          ],
          "name": "stdout"
        }
      ]
    },
    {
      "cell_type": "markdown",
      "metadata": {
        "id": "TA6iHipprTTH",
        "colab_type": "text"
      },
      "source": [
        "### Matrix Transposition\n",
        "You can *transpose* a matrix, that is switch the orientation of its rows and columns. You indicate this with a superscript **T**, like this:\n",
        "\n",
        "\\begin{equation}\\begin{bmatrix}1 & 2 & 3 \\\\4 & 5 & 6\\end{bmatrix}^{T} = \\begin{bmatrix}1 & 4\\\\2 & 5\\\\3 & 6 \\end{bmatrix}\\end{equation}\n",
        "\n",
        "In Python, both ***numpy.array*** and ***numpy.matrix*** have a **T** function:"
      ]
    },
    {
      "cell_type": "code",
      "metadata": {
        "id": "1aSaRB9YrTTI",
        "colab_type": "code",
        "outputId": "62a36f4a-eadb-4576-a44c-ed8b58d2f588",
        "colab": {
          "base_uri": "https://localhost:8080/",
          "height": 68
        }
      },
      "source": [
        "\n",
        "A = np.array([[1,2,3],\n",
        "              [4,5,6]])\n",
        "print(A.T)"
      ],
      "execution_count": 0,
      "outputs": [
        {
          "output_type": "stream",
          "text": [
            "[[1 4]\n",
            " [2 5]\n",
            " [3 6]]\n"
          ],
          "name": "stdout"
        }
      ]
    },
    {
      "cell_type": "markdown",
      "metadata": {
        "id": "_udRrjpQtvyv",
        "colab_type": "text"
      },
      "source": [
        "## Matrix Multiplication\n",
        "Multiplying matrices is a little more complex than the operations we've seen so far. There are two cases to consider, *scalar multiplication* (multiplying a matrix by a single number), and *dot product matrix multiplication* (multiplying a matrix by another matrix.\n",
        "### Scalar Multiplication\n",
        "To multiply a matrix by a scalar value, you just multiply each element by the scalar to produce a new matrix:\n",
        "\n",
        "\\begin{equation}2 \\times \\begin{bmatrix}1 & 2 & 3 \\\\4 & 5 & 6\\end{bmatrix} = \\begin{bmatrix}2 & 4 & 6 \\\\8 & 10 & 12\\end{bmatrix}\\end{equation}\n",
        "\n",
        "In Python, you perform this calculation using the **\\*** operator:"
      ]
    },
    {
      "cell_type": "code",
      "metadata": {
        "id": "h6ZxIxOstcV1",
        "colab_type": "code",
        "outputId": "c93a00c8-e7e6-46d4-a6ef-b7640b3355f8",
        "colab": {
          "base_uri": "https://localhost:8080/",
          "height": 51
        }
      },
      "source": [
        "\n",
        "A = np.array([[1,2,3],\n",
        "              [4,5,6]])\n",
        "print(2 * A)"
      ],
      "execution_count": 0,
      "outputs": [
        {
          "output_type": "stream",
          "text": [
            "[[ 2  4  6]\n",
            " [ 8 10 12]]\n"
          ],
          "name": "stdout"
        }
      ]
    },
    {
      "cell_type": "markdown",
      "metadata": {
        "id": "WPbtA_a8t2Jg",
        "colab_type": "text"
      },
      "source": [
        "### Dot Product Matrix Multiplication\n",
        "To mulitply two matrices together, you need to calculate the *dot product* of rows and columns. This means multiplying each of the elements in each row of the first matrix by each of the elements in each column of the second matrix and adding the results. We perform this operation by applying the *RC* rule - always multiplying ***R***ows by ***C***olumns. For this to work, the number of ***columns*** in the first matrix must be the same as the number of ***rows*** in the second matrix so that the matrices are *conformable* for the dot product operation.\n",
        "\n",
        "Sounds confusing, right?\n",
        "\n",
        "Let's look at an example:\n",
        "\n",
        "\\begin{equation}\\begin{bmatrix}1 & 2 & 3 \\\\4 & 5 & 6\\end{bmatrix} \\cdot \\begin{bmatrix}9 & 8 \\\\ 7 & 6 \\\\ 5 & 4\\end{bmatrix}\\end{equation}\n",
        "\n",
        "Note that the first matrix is 2x3, and the second matrix is 3x2. The important thing here is that the first matrix has two rows, and the second matrix has two columns. To perform the multiplication, we first take the dot product of the first ***row*** of the first matrix (1,2,3) and the first ***column*** of the second matrix (9,7,5):\n",
        "\n",
        "\\begin{equation}(1,2,3) \\cdot (9,7,5) = (1 \\times 9) + (2 \\times 7) + (3 \\times 5) = 38\\end{equation}\n",
        "\n",
        "In our resulting matrix (which will always have the same number of ***rows*** as the first matrix, and the same number of ***columns*** as the second matrix), we can enter this into the first row and first column element:\n",
        "\n",
        "\\begin{equation}\\begin{bmatrix}38 & ?\\\\? & ?\\end{bmatrix} \\end{equation}\n",
        "\n",
        "Now we can take the dot product of the first row of the first matrix and the second column of the second matrix:\n",
        "\n",
        "\\begin{equation}(1,2,3) \\cdot (8,6,4) = (1 \\times 8) + (2 \\times 6) + (3 \\times 4) = 32\\end{equation}\n",
        "\n",
        "Let's add that to our resulting matrix in the first row and second column element:\n",
        "\n",
        "\\begin{equation}\\begin{bmatrix}38 & 32\\\\? & ?\\end{bmatrix} \\end{equation}\n",
        "\n",
        "Now we can repeat this process for the second row of the first matrix and the first column of the second matrix:\n",
        "\n",
        "\\begin{equation}(4,5,6) \\cdot (9,7,5) = (4 \\times 9) + (5 \\times 7) + (6 \\times 5) = 101\\end{equation}\n",
        "\n",
        "Which fills in the next element in the result:\n",
        "\n",
        "\\begin{equation}\\begin{bmatrix}38 & 32\\\\101 & ?\\end{bmatrix} \\end{equation}\n",
        "\n",
        "Finally, we get the dot product for the second row of the first matrix and the second column of the second matrix:\n",
        "\n",
        "\\begin{equation}(4,5,6) \\cdot (8,6,4) = (4 \\times 8) + (5 \\times 6) + (6 \\times 4) = 86\\end{equation}\n",
        "\n",
        "Giving us:\n",
        "\n",
        "\\begin{equation}\\begin{bmatrix}38 & 32\\\\101 & 86\\end{bmatrix} \\end{equation}\n",
        "\n",
        "In Python, you can use the *numpy.**dot*** function or the **@** operator to multiply matrices and two-dimensional arrays:"
      ]
    },
    {
      "cell_type": "code",
      "metadata": {
        "id": "ruHF7Djyt-gZ",
        "colab_type": "code",
        "outputId": "beb699d3-d30c-417c-ee91-3201214b4495",
        "colab": {
          "base_uri": "https://localhost:8080/",
          "height": 85
        }
      },
      "source": [
        "A = np.array([[1,2,3],\n",
        "              [4,5,6]])\n",
        "B = np.array([[9,8],\n",
        "              [7,6],\n",
        "              [5,4]])\n",
        "print(np.dot(A,B))\n",
        "print(A @ B)"
      ],
      "execution_count": 0,
      "outputs": [
        {
          "output_type": "stream",
          "text": [
            "[[ 38  32]\n",
            " [101  86]]\n",
            "[[ 38  32]\n",
            " [101  86]]\n"
          ],
          "name": "stdout"
        }
      ]
    },
    {
      "cell_type": "markdown",
      "metadata": {
        "id": "6GpzVHCWt3fZ",
        "colab_type": "text"
      },
      "source": [
        "This is one case where there is a difference in behavior between *numpy.**array*** and *numpy.**matrix***, You can also use a regular multiplication (**\\***) operator with a matrix, but not with an array:"
      ]
    },
    {
      "cell_type": "code",
      "metadata": {
        "id": "gJIDsdGUuI1S",
        "colab_type": "code",
        "outputId": "3a82f219-8443-4ac6-a8e1-71e41f1db001",
        "colab": {
          "base_uri": "https://localhost:8080/",
          "height": 51
        }
      },
      "source": [
        "A = np.matrix([[1,2,3]\n",
        "               ,[4,5,6]])\n",
        "B = np.matrix([[9,8],\n",
        "               [7,6],\n",
        "               [5,4]])\n",
        "print(A * B)"
      ],
      "execution_count": 0,
      "outputs": [
        {
          "output_type": "stream",
          "text": [
            "[[ 38  32]\n",
            " [101  86]]\n"
          ],
          "name": "stdout"
        }
      ]
    },
    {
      "cell_type": "markdown",
      "metadata": {
        "id": "DmJ7vUMEuGWA",
        "colab_type": "text"
      },
      "source": [
        "Note that, unlike with multiplication of regular scalar numbers, the order of the operands in a multiplication operation is significant. For scalar numbers, the *commmutative law* of multiplication applies, so for example:\n",
        "\n",
        "\\begin{equation}2 \\times 4 = 4 \\times 2\\end{equation}\n",
        "\n",
        "With matrix multiplication, things are different, for example:\n",
        "\n",
        "\\begin{equation}\\begin{bmatrix}2 & 4 \\\\6 & 8\\end{bmatrix} \\cdot \\begin{bmatrix}1 & 3 \\\\ 5 & 7\\end{bmatrix} \\ne \\begin{bmatrix}1 & 3 \\\\ 5 & 7\\end{bmatrix} \\cdot \\begin{bmatrix}2 & 4 \\\\6 & 8\\end{bmatrix}\\end{equation}\n",
        "\n",
        "Run the following Python code to test this:"
      ]
    },
    {
      "cell_type": "code",
      "metadata": {
        "id": "gXr_lDxOuPkd",
        "colab_type": "code",
        "outputId": "49c79953-4960-42b0-8499-584a20e52a07",
        "colab": {
          "base_uri": "https://localhost:8080/",
          "height": 85
        }
      },
      "source": [
        "A = np.array([[2,4],\n",
        "              [6,8]])\n",
        "B = np.array([[1,3],\n",
        "              [5,7]])\n",
        "print(A @ B)\n",
        "print(B @ A)"
      ],
      "execution_count": 0,
      "outputs": [
        {
          "output_type": "stream",
          "text": [
            "[[22 34]\n",
            " [46 74]]\n",
            "[[20 28]\n",
            " [52 76]]\n"
          ],
          "name": "stdout"
        }
      ]
    },
    {
      "cell_type": "markdown",
      "metadata": {
        "id": "Kjj5UX8kt3sC",
        "colab_type": "text"
      },
      "source": [
        "## Identity Matrices\n",
        "An *identity* matrix (usually indicated by a capital **I**) is the equivalent in matrix terms of the number **1**. It always has the same number of rows as columns, and it has the value **1** in the diagonal element positions I<sub>1,1</sub>, I<sub>2,2</sub>, etc; and 0 in all other element positions. Here's an example of a 3x3 identity matrix:\n",
        "\n",
        "\\begin{equation}\\begin{bmatrix}1 & 0 & 0\\\\0 & 1 & 0\\\\0 & 0 & 1\\end{bmatrix} \\end{equation}\n",
        "\n",
        "Multiplying any matrix by an identity matrix is the same as multiplying a number by 1; the result is the same as the original value:\n",
        "\n",
        "\\begin{equation}\\begin{bmatrix}1 & 2 & 3 \\\\4 & 5 & 6\\\\7 & 8 & 9\\end{bmatrix} \\cdot \\begin{bmatrix}1 & 0 & 0\\\\0 & 1 & 0\\\\0 & 0 & 1\\end{bmatrix} = \\begin{bmatrix}1 & 2 & 3 \\\\4 & 5 & 6\\\\7 & 8 & 9\\end{bmatrix} \\end{equation}\n",
        "\n",
        "If you doubt me, try the following Python code!"
      ]
    },
    {
      "cell_type": "code",
      "metadata": {
        "id": "NfCIBS_SuWl7",
        "colab_type": "code",
        "outputId": "2f883350-f86f-41a0-aa3d-8244a243f77a",
        "colab": {
          "base_uri": "https://localhost:8080/",
          "height": 68
        }
      },
      "source": [
        "\n",
        "\n",
        "A = np.array([[1,2,3],\n",
        "              [4,5,6],\n",
        "              [7,8,9]])\n",
        "B = np.array([[1,0,0],\n",
        "              [0,1,0],\n",
        "              [0,0,1]])\n",
        "print(A @ B)"
      ],
      "execution_count": 0,
      "outputs": [
        {
          "output_type": "stream",
          "text": [
            "[[1 2 3]\n",
            " [4 5 6]\n",
            " [7 8 9]]\n"
          ],
          "name": "stdout"
        }
      ]
    },
    {
      "cell_type": "markdown",
      "metadata": {
        "id": "nhoHmx8huVpJ",
        "colab_type": "text"
      },
      "source": [
        "## Matrix Division\n",
        "You can't actually divide by a matrix; but when you want to divide matrices, you can take advantage of the fact that division by a given number is the same as multiplication by the reciprocal of that number. For example:\n",
        "\n",
        "\\begin{equation}6 \\div 3 = \\frac{1}{3}\\times 6 \\end{equation}\n",
        "\n",
        "In this case, <sup>1</sup>/<sub>3</sub> is the reciprocal of 3 (which as a fraction is <sup>3</sup>/<sub>1</sub> - we \"flip\" the numerator and denominator to get the reciprocal). You can also write <sup>1</sup>/<sub>3</sub> as 3<sup>-1</sup>.\n",
        "\n",
        "### Inverse of a Matrix\n",
        "For matrix division, we use a related idea; we multiply by the *inverse* of a matrix:\n",
        "\n",
        "\\begin{equation}A \\div B = A \\cdot B^{-1}\\end{equation}\n",
        "\n",
        "The inverse of B is B<sup>-1</sup> as long as the following equation is true:\n",
        "\n",
        "\\begin{equation}B \\cdot B^{-1} = B^{-1} \\cdot B = I\\end{equation}\n",
        "\n",
        "**I**, you may recall, is an *identity* matrix; the matrix equivalent of 1.\n",
        "\n",
        "So how do you calculate the inverse of a matrix? For a 2x2 matrix, you can follow this formula:\n",
        "\n",
        "\\begin{equation}\\begin{bmatrix}a & b\\\\c & d\\end{bmatrix}^{-1} = \\frac{1}{ad-bc}  \\begin{bmatrix}d & -b\\\\-c & a\\end{bmatrix}\\end{equation}\n",
        "\n",
        "What happened there?\n",
        "- We swapped the positions of *a* and *d*\n",
        "- We changed the signs of *b* and *c*\n",
        "- We multiplied the resulting matrix by 1 over the *determinant* of the matrix (*ad-bc*)\n",
        "\n",
        "Let's try with some actual numbers:\n",
        "\n",
        "\\begin{equation}\\begin{bmatrix}6 & 2\\\\1 & 2\\end{bmatrix}^{-1} = \\frac{1}{(6\\times2)-(2\\times1)}  \\begin{bmatrix}2 & -2\\\\-1 & 6\\end{bmatrix}\\end{equation}\n",
        "\n",
        "So:\n",
        "\n",
        "\\begin{equation}\\begin{bmatrix}6 & 2\\\\1 & 2\\end{bmatrix}^{-1} = \\frac{1}{10}  \\begin{bmatrix}2 & -2\\\\-1 & 6\\end{bmatrix}\\end{equation}\n",
        "\n",
        "Which gives us the result:\n",
        "\n",
        "\\begin{equation}\\begin{bmatrix}6 & 2\\\\1 & 2\\end{bmatrix}^{-1} = \\begin{bmatrix}0.2 & -0.2\\\\-0.1 & 0.6\\end{bmatrix}\\end{equation}\n",
        "\n",
        "To check this, we can multiply the original matrix by its inverse to see if we get an identity matrix. This makes sense if you think about it; in the same way that 3 x <sup>1</sup>/<sub>3</sub> = 1, a matrix multiplied by its inverse results in an identity matrix:\n",
        "\n",
        "\\begin{equation}\\begin{bmatrix}6 & 2\\\\1 & 2\\end{bmatrix} \\cdot \\begin{bmatrix}0.2 & -0.2\\\\-0.1 & 0.6\\end{bmatrix} = \\begin{bmatrix}(6\\times0.2)+(2\\times-0.1) & (6\\times-0.2)+(2\\times0.6)\\\\(1\\times0.2)+(2\\times-0.1) & (1\\times-0.2)+(2\\times0.6)\\end{bmatrix} = \\begin{bmatrix}1 & 0\\\\0 & 1\\end{bmatrix}\\end{equation}\n",
        "\n",
        "Note that not every matrix has an inverse - for example, if the determinant works out to be 0, the inverse matrix is not defined.\n",
        "\n",
        "In Python, you can use the *numpy.linalg.**inv*** function to get the inverse of a matrix in an *array* or *matrix* object:"
      ]
    },
    {
      "cell_type": "code",
      "metadata": {
        "id": "WSiNBtRsukeM",
        "colab_type": "code",
        "outputId": "e33c9473-4f2f-4b25-a422-4c7adefa3bcb",
        "colab": {
          "base_uri": "https://localhost:8080/",
          "height": 51
        }
      },
      "source": [
        "B = np.array([[6,2],\n",
        "              [1,2]])\n",
        "\n",
        "print(np.linalg.inv(B))"
      ],
      "execution_count": 0,
      "outputs": [
        {
          "output_type": "stream",
          "text": [
            "[[ 0.2 -0.2]\n",
            " [-0.1  0.6]]\n"
          ],
          "name": "stdout"
        }
      ]
    },
    {
      "cell_type": "markdown",
      "metadata": {
        "id": "yFosmJoGuV7Y",
        "colab_type": "text"
      },
      "source": [
        "Additionally, the *matrix* type has an ***I*** method that returns the inverse matrix:"
      ]
    },
    {
      "cell_type": "code",
      "metadata": {
        "id": "J6scmYHOu2Gu",
        "colab_type": "code",
        "outputId": "b3e8d317-3a7e-4884-87a3-4d9ed72bffea",
        "colab": {
          "base_uri": "https://localhost:8080/",
          "height": 51
        }
      },
      "source": [
        "B = np.matrix([[6,2],\n",
        "              [1,2]])\n",
        "\n",
        "print(B.I)"
      ],
      "execution_count": 0,
      "outputs": [
        {
          "output_type": "stream",
          "text": [
            "[[ 0.2 -0.2]\n",
            " [-0.1  0.6]]\n"
          ],
          "name": "stdout"
        }
      ]
    },
    {
      "cell_type": "markdown",
      "metadata": {
        "id": "DjS8lCrCuV-9",
        "colab_type": "text"
      },
      "source": [
        "For larger matrices, the process to calculate the inverse is more complex. Let's explore an example based on the following matrix:\n",
        "\n",
        "\\begin{equation}\\begin{bmatrix}4 & 2 & 2\\\\6 & 2 & 4\\\\2 & 2 & 8\\end{bmatrix} \\end{equation}\n",
        "\n",
        "The process to find the inverse consists of the following steps:\n",
        "\n",
        "1: Create a matrix of *minors* by calculating the *determinant* for each element in the matrix based on the elements that are <u>not</u> in the same row or column; like this:\n",
        "\n",
        "\\begin{equation}\\begin{bmatrix}\\color{blue}4 & \\color{lightgray}2 & \\color{lightgray}2\\\\\\color{lightgray}6 & \\color{red}2 & \\color{red}4\\\\\\color{lightgray}2 & \\color{red}2 & \\color{red}8\\end{bmatrix}\\;\\;\\;\\;(2\\times8) - (4\\times2) = 8\\;\\;\\;\\;\\begin{bmatrix}8 & \\color{lightgray}? & \\color{lightgray}?\\\\\\color{lightgray}? & \\color{lightgray}? & \\color{lightgray}?\\\\\\color{lightgray}? & \\color{lightgray}? & \\color{lightgray}?\\end{bmatrix} \\end{equation}\n",
        "\n",
        "\\begin{equation}\\begin{bmatrix}\\color{lightgray}4 & \\color{blue}2 & \\color{lightgray}2\\\\\\color{red}6 & \\color{lightgray}2 & \\color{red}4\\\\\\color{red}2 & \\color{lightgray}2 & \\color{red}8\\end{bmatrix}\\;\\;\\;\\;(6\\times8) - (4\\times2) = 40\\;\\;\\;\\;\\begin{bmatrix}8 & 40 & \\color{lightgray}?\\\\\\color{lightgray}? & \\color{lightgray}? & \\color{lightgray}?\\\\\\color{lightgray}? & \\color{lightgray}? & \\color{lightgray}?\\end{bmatrix}\\end{equation}\n",
        "\n",
        "\\begin{equation}\\begin{bmatrix}\\color{lightgray}4 & \\color{lightgray}2 & \\color{blue}2\\\\\\color{red}6 & \\color{red}2 & \\color{lightgray}4\\\\\\color{red}2 & \\color{red}2 & \\color{lightgray}8\\end{bmatrix}\\;\\;\\;\\;(6\\times2) - (2\\times2) = 8\\;\\;\\;\\;\\begin{bmatrix}8 & 40 & 8\\\\\\color{lightgray}? & \\color{lightgray}? & \\color{lightgray}?\\\\\\color{lightgray}? & \\color{lightgray}? & \\color{lightgray}?\\end{bmatrix} \\end{equation}\n",
        "\n",
        "\\begin{equation}\\begin{bmatrix}\\color{lightgray}4 & \\color{red}2 & \\color{red}2\\\\\\color{blue}6 & \\color{lightgray}2 & \\color{lightgray}4\\\\\\color{lightgray}2 & \\color{red}2 & \\color{red}8\\end{bmatrix}\\;\\;\\;\\;(2\\times8) - (2\\times2) = 12\\;\\;\\;\\;\\begin{bmatrix}8 & 40 & 8\\\\12 & \\color{lightgray}? & \\color{lightgray}?\\\\\\color{lightgray}? & \\color{lightgray}? & \\color{lightgray}?\\end{bmatrix} \\end{equation}\n",
        "\n",
        "\\begin{equation}\\begin{bmatrix}\\color{red}4 & \\color{lightgray}2 & \\color{red}2\\\\\\color{lightgray}6 & \\color{blue}2 & \\color{lightgray}4\\\\\\color{red}2 & \\color{lightgray}2 & \\color{red}8\\end{bmatrix}\\;\\;\\;\\;(4\\times8) - (2\\times2) = 28\\;\\;\\;\\;\\begin{bmatrix}8 & 40 & 8\\\\12 & 28 & \\color{lightgray}?\\\\\\color{lightgray}? & \\color{lightgray}? & \\color{lightgray}?\\end{bmatrix} \\end{equation}\n",
        "\n",
        "\\begin{equation}\\begin{bmatrix}\\color{red}4 & \\color{red}2 & \\color{lightgray}2\\\\\\color{lightgray}6 & \\color{lightgray}2 & \\color{blue}4\\\\\\color{red}2 & \\color{red}2 & \\color{lightgray}8\\end{bmatrix}\\;\\;\\;\\;(4\\times2) - (2\\times2) = 4\\;\\;\\;\\;\\begin{bmatrix}8 & 40 & 8\\\\12 & 28 & 4\\\\\\color{lightgray}? & \\color{lightgray}? & \\color{lightgray}?\\end{bmatrix} \\end{equation}\n",
        "\n",
        "\\begin{equation}\\begin{bmatrix}\\color{lightgray}4 & \\color{red}2 & \\color{red}2\\\\\\color{lightgray}6 & \\color{red}2 & \\color{red}4\\\\\\color{blue}2 & \\color{lightgray}2 & \\color{lightgray}8\\end{bmatrix}\\;\\;\\;\\;(2\\times4) - (2\\times2) = 4\\;\\;\\;\\;\\begin{bmatrix}8 & 40 & 8\\\\12 & 28 & 4\\\\4 & \\color{lightgray}? & \\color{lightgray}?\\end{bmatrix} \\end{equation}\n",
        "\n",
        "\\begin{equation}\\begin{bmatrix}\\color{red}4 & \\color{lightgray}2 & \\color{red}2\\\\\\color{red}6 & \\color{lightgray}2 & \\color{red}4\\\\\\color{lightgray}2 & \\color{blue}2 & \\color{lightgray}8\\end{bmatrix}\\;\\;\\;\\;(4\\times4) - (2\\times6) = 4\\;\\;\\;\\;\\begin{bmatrix}8 & 40 & 8\\\\12 & 28 & 4\\\\4 & 4 & \\color{lightgray}?\\end{bmatrix} \\end{equation}\n",
        "\n",
        "\\begin{equation}\\begin{bmatrix}\\color{red}4 & \\color{red}2 & \\color{lightgray}2\\\\\\color{red}6 & \\color{red}2 & \\color{lightgray}4\\\\\\color{lightgray}2 & \\color{lightgray}2 & \\color{blue}8\\end{bmatrix}\\;\\;\\;\\;(4\\times2) - (2\\times6) = -4\\;\\;\\;\\;\\begin{bmatrix}8 & 40 & 8\\\\12 & 28 & 4\\\\4 & 4 & -4\\end{bmatrix} \\end{equation}\n",
        "\n",
        "\n",
        "2: Apply *cofactors* to the matrix by switching the sign of every alternate element in the matrix of minors:\n",
        "\n",
        "\\begin{equation}\\begin{bmatrix}8 & -40 & 8\\\\-12 & 28 & -4\\\\4 & -4 & -4\\end{bmatrix} \\end{equation}\n",
        "\n",
        "3: *Adjugate* by transposing elements diagonally:\n",
        "\n",
        "\\begin{equation}\\begin{bmatrix}8 & \\color{green}-\\color{green}1\\color{green}2 & \\color{orange}4\\\\\\color{green}-\\color{green}4\\color{green}0 & 28 & \\color{purple}-\\color{purple}4\\\\\\color{orange}8 & \\color{purple}-\\color{purple}4 & -4\\end{bmatrix} \\end{equation}\n",
        "\n",
        "4: Multiply by 1/determinant of the original matrix. To find this, multiply each of the top row elements by their corresponding minor determinants (which we calculated earlier in the matrix of minors), and then subtract the second from the first and add the third:\n",
        "\n",
        "\\begin{equation}Determinant = (4 \\times 8) - (2 \\times 40) + (2 \\times 8) = -32\\end{equation}\n",
        "\n",
        "\n",
        "\\begin{equation}\\frac{1}{-32}\\begin{bmatrix}8 & -12 & 4\\\\-40 & 28 & -4\\\\8 & -4 & -4\\end{bmatrix} =  \\begin{bmatrix}-0.25 & 0.375 & -0.125\\\\1.25 & -0.875 & 0.125\\\\-0.25 & 0.125 & 0.125\\end{bmatrix}\\end{equation}\n",
        "\n",
        "Let's verify that the original matrix multiplied by the inverse results in an identity matrix:\n",
        "\n",
        "\\begin{equation}\\begin{bmatrix}4 & 2 & 2\\\\6 & 2 & 4\\\\2 & 2 & 8\\end{bmatrix} \\cdot \\begin{bmatrix}-0.25 & 0.375 & -0.125\\\\1.25 & -0.875 & 0.125\\\\-0.25 & 0.125 & 0.125\\end{bmatrix}\\end{equation}\n",
        "\n",
        "\\begin{equation}= \\begin{bmatrix}(4\\times-0.25)+(2\\times1.25)+(2\\times-0.25) & (4\\times0.375)+(2\\times-0.875)+(2\\times0.125) & (4\\times-0.125)+(2\\times-0.125)+(2\\times0.125)\\\\(6\\times-0.25)+(2\\times1.25)+(4\\times-0.25) & (6\\times0.375)+(2\\times-0.875)+(4\\times0.125) & (6\\times-0.125)+(2\\times-0.125)+(4\\times0.125)\\\\(2\\times-0.25)+(2\\times1.25)+(8\\times-0.25) & (2\\times0.375)+(2\\times-0.875)+(8\\times0.125) & (2\\times-0.125)+(2\\times-0.125)+(8\\times0.125)\\end{bmatrix} \\end{equation}\n",
        "\n",
        "\\begin{equation}= \\begin{bmatrix}1 & 0 & 0\\\\0 & 1 & 0\\\\0 & 0 & 1\\end{bmatrix} \\end{equation}\n",
        "\n",
        "As you can see, this can get pretty complicated - which is why we usually use a calculator or a computer program. You can run the following Python code to verify that the inverse matrix we calculated is correct:"
      ]
    },
    {
      "cell_type": "code",
      "metadata": {
        "id": "4SI0OtV5u_tD",
        "colab_type": "code",
        "outputId": "3ee82d75-c99f-4b4c-ad7b-535c18419372",
        "colab": {
          "base_uri": "https://localhost:8080/",
          "height": 68
        }
      },
      "source": [
        "B = np.array([[4,2,2],\n",
        "              [6,2,4],\n",
        "              [2,2,8]])\n",
        "\n",
        "print(np.linalg.inv(B))"
      ],
      "execution_count": 0,
      "outputs": [
        {
          "output_type": "stream",
          "text": [
            "[[-0.25   0.375 -0.125]\n",
            " [ 1.25  -0.875  0.125]\n",
            " [-0.25   0.125  0.125]]\n"
          ],
          "name": "stdout"
        }
      ]
    },
    {
      "cell_type": "markdown",
      "metadata": {
        "id": "oFxK-xiYt3z2",
        "colab_type": "text"
      },
      "source": [
        "### Multiplying by an Inverse Matrix\n",
        "Now that you know how to calculate an inverse matrix, you can use that knowledge to multiply the inverse of a matrix by another matrix as an alternative to division:\n",
        "\n",
        "\\begin{equation}\\begin{bmatrix}1 & 2\\\\3 & 4\\end{bmatrix} \\cdot \\begin{bmatrix}6 & 2\\\\1 & 2\\end{bmatrix}^{-1} \\end{equation}\n",
        "\n",
        "\\begin{equation}=\\begin{bmatrix}1 & 2\\\\3 & 4\\end{bmatrix} \\cdot \\begin{bmatrix}0.2 & -0.2\\\\-0.1 & 0.6\\end{bmatrix}  \\end{equation}\n",
        "\n",
        "\\begin{equation}=\\begin{bmatrix}(1\\times0.2)+(2\\times-0.1) & (1\\times-0.2)+(2\\times0.6)\\\\(3\\times0.2)+(4\\times-0.1) & (3\\times-0.2)+(4\\times0.6)\\end{bmatrix}\\end{equation}\n",
        "\n",
        "\\begin{equation}=\\begin{bmatrix}0 & 1\\\\0.2 & 1.8\\end{bmatrix}\\end{equation}\n",
        "\n",
        "Here's the Python code to calculate this:"
      ]
    },
    {
      "cell_type": "code",
      "metadata": {
        "id": "kfC59Mc2vHWP",
        "colab_type": "code",
        "outputId": "41c61aa9-ecd8-4bee-bc49-7734031fd8a7",
        "colab": {
          "base_uri": "https://localhost:8080/",
          "height": 51
        }
      },
      "source": [
        "A = np.array([[1,2],\n",
        "              [3,4]])\n",
        "\n",
        "B = np.array([[6,2],\n",
        "              [1,2]])\n",
        "\n",
        "\n",
        "C = A @ np.linalg.inv(B)\n",
        "\n",
        "print(C)"
      ],
      "execution_count": 0,
      "outputs": [
        {
          "output_type": "stream",
          "text": [
            "[[0.  1. ]\n",
            " [0.2 1.8]]\n"
          ],
          "name": "stdout"
        }
      ]
    },
    {
      "cell_type": "markdown",
      "metadata": {
        "id": "OCAT2WqMt374",
        "colab_type": "text"
      },
      "source": [
        "## Solving Systems of Equations with Matrices\n",
        "One of the great things about matrices, is that they can help us solve systems of equations. For example, consider the following system of equations:\n",
        "\n",
        "\\begin{equation}2x + 4y = 18\\end{equation}\n",
        "\\begin{equation}6x + 2y = 34\\end{equation}\n",
        "\n",
        "We can write this in matrix form, like this:\n",
        "\n",
        "\\begin{equation}\\begin{bmatrix}2 & 4\\\\6 & 2\\end{bmatrix} \\cdot \\begin{bmatrix}x\\\\y\\end{bmatrix}=\\begin{bmatrix}18\\\\34\\end{bmatrix}\\end{equation}\n",
        "\n",
        "Note that the variables (***x*** and ***y***) are  arranged as a column in one matrix, which is multiplied by a matrix containing the coefficients to produce as matrix containing the results. If you calculate the dot product on the left side, you can see clearly that this represents the original equations:\n",
        "\n",
        "\\begin{equation}\\begin{bmatrix}2x + 4y\\\\6x + 2y\\end{bmatrix} =\\begin{bmatrix}18\\\\34\\end{bmatrix}\\end{equation}\n",
        "\n",
        "Now. let's name our matrices so we can better understand what comes next:\n",
        "\n",
        "\\begin{equation}A=\\begin{bmatrix}2 & 4\\\\6 & 2\\end{bmatrix}\\;\\;\\;\\;X=\\begin{bmatrix}x\\\\y\\end{bmatrix}\\;\\;\\;\\;B=\\begin{bmatrix}18\\\\34\\end{bmatrix}\\end{equation}\n",
        "\n",
        "We already know that ***A &bull; X = B***, which arithmetically means that ***X = B &div; A***. Since we can't actually divide by a matrix, we need to multiply by the inverse; so we can find the values for our variables (*X*) like this: ***X = A<sup>-1</sup> &bull; B***\n",
        "\n",
        "So, first we need the inverse of A:\n",
        "\n",
        "\\begin{equation}\\begin{bmatrix}2 & 4\\\\6 & 2\\end{bmatrix}^{-1} = \\frac{1}{(2\\times2)-(4\\times6)}  \\begin{bmatrix}2 & -4\\\\-6 & 2\\end{bmatrix}\\end{equation}\n",
        "\n",
        "\\begin{equation}= \\frac{1}{-20}  \\begin{bmatrix}2 & -4\\\\-6 & 2\\end{bmatrix}\\end{equation}\n",
        "\n",
        "\\begin{equation}=\\begin{bmatrix}-0.1 & 0.2\\\\0.3 & -0.1\\end{bmatrix}\\end{equation}\n",
        "\n",
        "Then we just multiply this with B:\n",
        "\n",
        "\\begin{equation}X = \\begin{bmatrix}-0.1 & 0.2\\\\0.3 & -0.1\\end{bmatrix} \\cdot \\begin{bmatrix}18\\\\34\\end{bmatrix}\\end{equation}\n",
        "\n",
        "\\begin{equation}X = \\begin{bmatrix}(-0.1 \\times 18)+(0.2 \\times 34)\\\\(0.3\\times18)+(-0.1\\times34)\\end{bmatrix}\\end{equation}\n",
        "\n",
        "\\begin{equation}X = \\begin{bmatrix}5\\\\2\\end{bmatrix}\\end{equation}\n",
        "\n",
        "The resulting matrix (*X*) contains the values for our *x* and *y* variables, and we can check these by plugging them into the original equations:\n",
        "\n",
        "\\begin{equation}(2\\times5) + (4\\times2) = 18\\end{equation}\n",
        "\\begin{equation}(6\\times5) + (2\\times2) = 34\\end{equation}\n",
        "\n",
        "These of course simplify to:\n",
        "\n",
        "\\begin{equation}10 + 8 = 18\\end{equation}\n",
        "\\begin{equation}30 + 4 = 34\\end{equation}\n",
        "\n",
        "So our variable values are correct.\n",
        "\n",
        "Here's the Python code to do all of this:"
      ]
    },
    {
      "cell_type": "code",
      "metadata": {
        "id": "9oRF66KFvPfI",
        "colab_type": "code",
        "outputId": "2392b86c-b95f-4431-b3cb-50247416fd93",
        "colab": {
          "base_uri": "https://localhost:8080/",
          "height": 51
        }
      },
      "source": [
        "import numpy as np\n",
        "\n",
        "A = np.array([[2,4],\n",
        "              [6,2]])\n",
        "\n",
        "B = np.array([[18],\n",
        "              [34]])\n",
        "\n",
        "C = np.linalg.inv(A) @ B\n",
        "\n",
        "print(C)"
      ],
      "execution_count": 0,
      "outputs": [
        {
          "output_type": "stream",
          "text": [
            "[[5.]\n",
            " [2.]]\n"
          ],
          "name": "stdout"
        }
      ]
    }
  ]
}