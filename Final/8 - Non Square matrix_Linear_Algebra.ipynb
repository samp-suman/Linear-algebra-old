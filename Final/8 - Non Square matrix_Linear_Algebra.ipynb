{
 "cells": [
  {
   "cell_type": "markdown",
   "metadata": {},
   "source": [
    "# Non square matrix-\n",
    "\n",
    "Matrix in which no. of rows and columns are not same.\n",
    "Non-Square matrix has a different role in transformation, when ever there is the need to tranform any 3-D vector in 2-D plane then or in any transformation when there is chnage in dimenssion, \"Non-square matrix\" comes in effect.\n",
    "\n",
    "For example--\n",
    "\n",
    "\n",
    "$ \\quad2-D\\quad Input\\quad vector\\quad \\quad  \\quad \\quad \\quad \\quad \\quad \\quad \\quad \\quad \\quad 3-D\\quad Output\\quad vector\\\\ \\quad \\quad \\quad \\quad \\overbrace { \\begin{bmatrix} 2 \\\\ 3 \\end{bmatrix} } \\quad \\quad \\quad \\quad \\quad \\quad \\rightarrow \\quad \\quad \\quad L(\\vec { v } )\\quad \\quad \\rightarrow \\quad \\quad \\quad \\overbrace { \\begin{bmatrix} 1 \\\\ 8 \\\\ 2 \\end{bmatrix} } $\n",
    "\n",
    "\n",
    "Here as like the linear transformation we record where the vector landed after transformation and present that  in a matrix.\n",
    "For any transformation of a 2-d to 1-D (simple a no. that represent on any no. line) or 2-d to 3-D or 3-D to 2-D or any dimenssional transfromation there is a transformation matrix which is \"non-square\". \n",
    "\n",
    "So if we see a \"non-square matrix\" of 3X2 then what it mean?-- It mean a 2-D vector is transformed in 3-D vector, as there is 3-rows which signifies that the vector on transformation landed in respect to theree different basis vectors.\n",
    "\n",
    "for example--\n"
   ]
  },
  {
   "cell_type": "code",
   "execution_count": 2,
   "metadata": {},
   "outputs": [
    {
     "data": {
      "text/plain": [
       "array([ 5,  6, 23])"
      ]
     },
     "execution_count": 2,
     "metadata": {},
     "output_type": "execute_result"
    }
   ],
   "source": [
    "import numpy as np\n",
    "#2-D vector\n",
    "\n",
    "v=np.array([1,2])\n",
    "\n",
    "#- Non square matrix\n",
    "\n",
    "a=np.array([[3,1],\n",
    "           [4,1],\n",
    "           [5,9]])\n",
    "# It gives output as 3-D vector.\n",
    "a@v"
   ]
  },
  {
   "cell_type": "markdown",
   "metadata": {},
   "source": [
    "### Example -2-\n",
    "2X3 Non-Square Matrix -- gives output as 2-d vector"
   ]
  },
  {
   "cell_type": "code",
   "execution_count": 3,
   "metadata": {},
   "outputs": [
    {
     "data": {
      "text/plain": [
       "array([ 9, 20])"
      ]
     },
     "execution_count": 3,
     "metadata": {},
     "output_type": "execute_result"
    }
   ],
   "source": [
    "import numpy as np\n",
    "##-D vector\n",
    "\n",
    "v=np.array([1,2,1])\n",
    "\n",
    "#- Non square matrix\n",
    "\n",
    "a=np.array([[3,1,4],\n",
    "           [1,5,9]])\n",
    "# It gives output as 2-D vector.\n",
    "a@v"
   ]
  },
  {
   "cell_type": "code",
   "execution_count": null,
   "metadata": {},
   "outputs": [],
   "source": []
  }
 ],
 "metadata": {
  "kernelspec": {
   "display_name": "Python 3",
   "language": "python",
   "name": "python3"
  },
  "language_info": {
   "codemirror_mode": {
    "name": "ipython",
    "version": 3
   },
   "file_extension": ".py",
   "mimetype": "text/x-python",
   "name": "python",
   "nbconvert_exporter": "python",
   "pygments_lexer": "ipython3",
   "version": "3.7.1"
  }
 },
 "nbformat": 4,
 "nbformat_minor": 2
}
