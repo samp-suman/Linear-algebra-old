{
 "cells": [
  {
   "cell_type": "code",
   "execution_count": 1,
   "metadata": {},
   "outputs": [],
   "source": [
    "import numpy as np"
   ]
  },
  {
   "cell_type": "markdown",
   "metadata": {},
   "source": [
    "## Cross Product Multiplication\n",
    "To get the *vector product* of multipying two vectors together, you must calculate the *cross product*. The result of this is a new vector that is at right angles to both the other vectors in 3D Euclidean space. This means that the cross-product only really makes sense when working with vectors that contain three components.\n",
    "\n",
    "For example, let's suppose we have the following vectors:\n",
    "\n",
    "\\begin{equation}\\vec{p} = \\begin{bmatrix}2 \\\\ 3 \\\\ 1 \\end{bmatrix}\\;\\; \\vec{q} = \\begin{bmatrix}1 \\\\ 2 \\\\ -2 \\end{bmatrix}\\end{equation}\n",
    "\n",
    "To calculate the cross product of these vectors, written as **p** x **q**, we need to create a new vector (let's call it **r**) with three components (r<sub>1</sub>, r<sub>2</sub>, and r<sub>3</sub>). The values for these components are calculated like this:\n",
    "\n",
    "\\begin{equation}r_{1} = p_{2}q_{3} - p_{3}q_{2}\\end{equation}\n",
    "\\begin{equation}r_{2} = p_{3}q_{1} - p_{1}q_{3}\\end{equation}\n",
    "\\begin{equation}r_{3} = p_{1}q_{2} - p_{2}q_{1}\\end{equation}\n",
    "\n",
    "So in our case:\n",
    "\n",
    "\\begin{equation}\\vec{r} = \\vec{p} \\times \\vec{q} = \\begin{bmatrix}(3 \\cdot -2) - (1 \\cdot 2) \\\\ (1 \\cdot 1) - (2 \\cdot -2) \\\\ (2 \\cdot 2) - (3 \\cdot 1) \\end{bmatrix} = \\begin{bmatrix}-6 - 2 \\\\ 1 - -4 \\\\ 4 - 3 \\end{bmatrix} = \\begin{bmatrix}-8 \\\\ 5 \\\\ 1 \\end{bmatrix}\\end{equation}\n",
    "\n",
    "In Python, you can use the ***numpy.cross*** function to calculate the cross product of two vector arrays:"
   ]
  },
  {
   "cell_type": "code",
   "execution_count": 2,
   "metadata": {},
   "outputs": [
    {
     "name": "stdout",
     "output_type": "stream",
     "text": [
      "a1= [2 3 1]\n",
      "a2= [ 1  2 -2]\n",
      "cross Product: a1 X a2 =  [-8  5  1]\n"
     ]
    }
   ],
   "source": [
    "a1=np.array([2,3,1])\n",
    "a2=np.array([1,2,-2])\n",
    "print(\"a1=\",a1)\n",
    "print(\"a2=\",a2)\n",
    "a=np.cross(a1,a2)\n",
    "print(\"cross Product: a1 X a2 = \",a)"
   ]
  },
  {
   "cell_type": "markdown",
   "metadata": {},
   "source": [
    "### Geometrical interpretation of cross product--\n",
    "\n",
    "\n",
    "Unlike dot product ***cross product*** gives an output as a vector.\n",
    "\n",
    "whats its geometric meaning?-- As like determinant it has relation with area, like cross product b/w two vectors($\\vec{u}$ X $\\vec{v}$) gives the magnitude of the area span by that two vectors and unlike determinant it also has direction which is determined by the famous right hand rule --\n",
    "\n",
    "**keeping $\\vec{u}$ in derection of fore finger and $\\vec{v}$ in direction of middle finger then the direction of the raised thumb is the required vector(cross product) direction.**\n",
    "\n",
    "$\\vec{u}$ X $\\vec{v}$ = $det\\left( \\begin{bmatrix} { u }_{ x } & { v }_{ x } \\\\ { u }_{ y } & { v }_{ y } \\end{bmatrix} \\right) $\n"
   ]
  },
  {
   "cell_type": "markdown",
   "metadata": {},
   "source": [
    "The vector product of two vectors, $\\vec{u}$ and $\\vec{v}$ , in three dimensions is defined as a new vector denoted by $\\vec{u}$ X $\\vec{v}$ , which has the following properties:\n",
    "\n",
    "(1) $\\vec{u}$ X $\\vec{v}$ is orthogonal to both $\\vec{u}$ and $\\vec{v}$ .\n",
    "\n",
    "(2) $\\left| \\vec { u } X\\vec { v }  \\right| =\\left| \\vec { u }  \\right| \\left| \\vec { v }  \\right| \\sin { { \\theta  }_{ u,v } } $.\n",
    "\n",
    "(3) The vectors $\\vec{u}$, $\\vec{v}$, and $\\vec{u}$ X $\\vec{v}$ , are positively oriented(anti clockwise).\n",
    "\n",
    "\n",
    "From (2), it follows that the vector product is 0 if either $\\vec{u}$ = 0 or $\\vec{v}$ = 0 , because a vector of 0 length must be the ***0***  vector. Similarly, from (2), the vector product is 0 if $ \\theta_{ u,v }$ = 0. Also, since$ \\theta_{ u,u }$ = 0, it holds that $\\vec{u}$ X $\\vec{u}$ = 0 .\n",
    "\n",
    "<a href=\"http://immersivemath.com/ila/ch04_vectorproduct/ch04.html#fig_vp_interactive_vector_product\"> intravtive scalar product</a>\n",
    "\n",
    "\n",
    "\n",
    "#### Properties--\n",
    "$\n",
    "\\begin{align}\n",
    "        \\begin{array}{llr}\n",
    "        (1) :&\\,\\,\\, \\vec{u} \\times \\vec{v} = -\\vec{v} \\times \\vec{u} & \\text{(anti-commutativity)} \\\\\n",
    "        (2) :&\\,\\,\\, \\vec{u} \\times (\\vec{v} + \\vec{w}) = \\vec{u} \\times \\vec{v} + \\vec{u} \\times \\vec{w} & \\text{(distributivity)} \\\\\n",
    "        (3) :&\\,\\,\\, (\\vec{u} + \\vec{v}) \\times \\vec{w} = \\vec{u} \\times \\vec{w} + \\vec{v} \\times \\vec{w} & \\text{(distributivity)}\\\\\n",
    "        (4) :&\\,\\,\\, k(\\vec{u} \\times \\vec{v}) = (k\\vec{u}) \\times \\vec{v} = \\vec{u} \\times (k\\vec{v}) & \\text{(associativity)}\n",
    "        \\end{array}\n",
    "            \\end{align}$"
   ]
  },
  {
   "cell_type": "code",
   "execution_count": null,
   "metadata": {},
   "outputs": [],
   "source": []
  }
 ],
 "metadata": {
  "kernelspec": {
   "display_name": "Python 3",
   "language": "python",
   "name": "python3"
  },
  "language_info": {
   "codemirror_mode": {
    "name": "ipython",
    "version": 3
   },
   "file_extension": ".py",
   "mimetype": "text/x-python",
   "name": "python",
   "nbconvert_exporter": "python",
   "pygments_lexer": "ipython3",
   "version": "3.7.1"
  }
 },
 "nbformat": 4,
 "nbformat_minor": 2
}
