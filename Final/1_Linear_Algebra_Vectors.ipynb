{
  "nbformat": 4,
  "nbformat_minor": 0,
  "metadata": {
    "kernelspec": {
      "display_name": "Python 3",
      "language": "python",
      "name": "python3"
    },
    "language_info": {
      "codemirror_mode": {
        "name": "ipython",
        "version": 3
      },
      "file_extension": ".py",
      "mimetype": "text/x-python",
      "name": "python",
      "nbconvert_exporter": "python",
      "pygments_lexer": "ipython3",
      "version": "3.7.1"
    },
    "colab": {
      "name": "1.Linear Algebra_Vectors.ipynb",
      "provenance": [],
      "collapsed_sections": []
    }
  },
  "cells": [
    {
      "cell_type": "markdown",
      "metadata": {
        "id": "uAbJuGvFuoyh",
        "colab_type": "text"
      },
      "source": [
        "# Vectors\n",
        "\n",
        "Vectors, and vector spaces, are fundamental to linear algebra, and they're used in many machine learning models. Vectors describe spatial lines and planes, enabling you to perform calculations that explore relationships in multi-dimensional space.\n",
        "\n",
        "## What is vector? \n",
        "\n",
        "(In simpler way..) A numeric element that has both *magnitude* and *direction*. The magnitude represents a distance (for example, \"2 miles\") and the direction indicates which way the vector is headed (for example, \"East\"). \n",
        "\n",
        "Vectors are defined by coordinates that describe a point in space that can be connected by a line from an arbitrary origin. It may be 2-D, 3-D or n-D.\n",
        "Lets take an example of a 2-D vector: For 2-D vector we need two cordinates and we say it as ***x-axis*** and ***y-axis*** and values are 2 on the ***x-axis*** and 3 on the ***y-axis*** and name that vector as ***v*** i.e.***v***(***x*** ,***y*** )=(***2***,***3***). \n",
        "For Computer Science perspective vectors are order list of numbers as matrix, so the above vector can be represented as:\n",
        "\\begin{equation}\\vec{v} = \\begin{bmatrix}2 \\\\ 3 \\end{bmatrix}\\end{equation}\n",
        "\n",
        "Here the below codes are for visualising the above vector ***v*** :-"
      ]
    },
    {
      "cell_type": "code",
      "metadata": {
        "id": "KZ0iPQWEuoyk",
        "colab_type": "code",
        "outputId": "b8dbda61-02f1-4c86-f471-0f037ec3c82e",
        "colab": {
          "base_uri": "https://localhost:8080/",
          "height": 288
        }
      },
      "source": [
        "%matplotlib inline\n",
        "\n",
        "import numpy as np\n",
        "import matplotlib.pyplot as plt\n",
        "\n",
        "# We'll use a numpy array for our vector\n",
        "v = np.array([2,3])\n",
        "\n",
        "\n",
        "# and we'll use a quiver plot to visualize it.\n",
        "origin = [0, 0]\n",
        "plt.axis('equal')\n",
        "plt.grid()\n",
        "plt.ticklabel_format(style='sci', axis='both', scilimits=(0,0))\n",
        "plt.quiver(*origin, *v, scale=10, color='r')\n",
        "\n",
        "plt.show()"
      ],
      "execution_count": 0,
      "outputs": [
        {
          "output_type": "display_data",
          "data": {
            "image/png": "[encoded data removed]",
            "text/plain": [
              "<Figure size 432x288 with 1 Axes>"
            ]
          },
          "metadata": {
            "tags": []
          }
        }
      ]
    },
    {
      "cell_type": "markdown",
      "metadata": {
        "id": "W5RYiCjDuoyr",
        "colab_type": "text"
      },
      "source": [
        "Note that we can use a numpy array to define the vector in Python; so to create our (2,3) vector, we simply create a numpy array with the elements [2,3]. We've then used a quiver plot to visualize the vector, using the point 0,0 as the starting point (or origin). Our vector of (2,3) is shown as an arrow that starts at 0,0 and moves 2 units along the x* axis (to the right) and 1 unit along the *y axis (up)."
      ]
    },
    {
      "cell_type": "markdown",
      "metadata": {
        "id": "Ed4miy_muoys",
        "colab_type": "text"
      },
      "source": [
        "## Calculating Vector Magnitude and Direction\n",
        "We were working with vectors by expressing their components as *cartesian coordinates*; that is, *x* and *y* (in case of 2-D) values which says how much unit the vector is in each dimensions(as explained above).\n",
        "\n",
        "There is one another way of expressing a vector that is ***polar coordinates***, in this method of representation a vector is represented as pair of values \"magnitude of the vector\" and \"direction of the vector\". Magnitude signifies the the total length of the vector fron tail to head,m and direction signifies the angle at which the vector is oriented. \n",
        "\n",
        "For \"polar cordinates\" we will need magnitude as well as direction\n",
        "\n",
        "\n",
        "\n",
        "### Calculating Magnitude\n",
        "Calculating the magnitude of the vector from its cartesian coordinates requires measuring the distance between the arbitrary starting point(tail) and the vector head point. For a two-dimensional vector, we're actually just calculating the length of the hypotenuse in a right-angled triangle - so we could simply invoke Pythagorean theorum and calculate the square root of the sum of the squares of it's components, like this:\n",
        "\n",
        "\\begin{equation}\\vec{v} = \\begin{bmatrix}2 \\\\ 3 \\end{bmatrix}\\end{equation}\n",
        "\n",
        "\\begin{equation}\\|\\vec{v}\\| = \\sqrt{v_{x}\\;^{2} + v_{y}\\;^{2}}\\end{equation}\n",
        "\n",
        "The notation for a vector's magnitude is to surround the vector name with vertical bars - you can use single bars (for example, |**v**|) or double bars (||**v**||). Double-bars are often used to avoid confusion with absolute values. Note that the components of the vector are indicated by subscript indices (v<sub>1</sub>, v<sub>2</sub>,...v<sub>*n*</sub>),\n",
        "\n",
        "In this case, the vector ***v*** has two components with values  *2 and 3*, so our magnitude calculation is:\n",
        "\n",
        "\\begin{equation}\\|\\vec{v}\\| = \\sqrt{2^{2} + 3^{2}}\\end{equation}\n",
        "\n",
        "\n",
        "\\begin{equation}\\|\\vec{v}\\| = \\sqrt{13} \\approx 3.60\\end{equation}\n",
        "\n"
      ]
    },
    {
      "cell_type": "code",
      "metadata": {
        "id": "H5YrjVr1uoyt",
        "colab_type": "code",
        "outputId": "da5594de-3058-4082-a26c-c9ac8f35c465",
        "colab": {
          "base_uri": "https://localhost:8080/",
          "height": 34
        }
      },
      "source": [
        "import math\n",
        "\n",
        "vMag = math.sqrt(v[0]**2 + v[1]**2)\n",
        "print (vMag)"
      ],
      "execution_count": 0,
      "outputs": [
        {
          "output_type": "stream",
          "text": [
            "3.605551275463989\n"
          ],
          "name": "stdout"
        }
      ]
    },
    {
      "cell_type": "markdown",
      "metadata": {
        "id": "GUKAkkXmuoyw",
        "colab_type": "text"
      },
      "source": [
        "This calculation works for vectors of any dimensionality - you just take the square root of the sum of the squared components.\n",
        "for ex. in case of 3-D- if any vector **p** is defined as-\n",
        "\\begin{equation}\\vec{p} = \\begin{bmatrix}1 \\\\ 3 \\\\ 2 \\end{bmatrix}\\end{equation}\n",
        "\n",
        "its mag nitude will be-\n",
        "\n",
        "\\begin{equation}\\|\\vec{p}\\| = \\sqrt{p_{x}\\;^{2} + p_{y}\\;^{2} + p_{z}\\;^{2}}\\end{equation}\n",
        "\n",
        "\\begin{equation}\\|\\vec{p}\\| = \\sqrt{1^{2} + 3^{2} + 2^{2}}\\end{equation}\n",
        "\n",
        "\\begin{equation}\\|\\vec{p}\\| = \\sqrt{14} \\approx 3.74\\end{equation}\n",
        "\n",
        "so therefor in general for n-D:-\n",
        "\n",
        "\\begin{equation}\\|\\vec{v}\\| = \\sqrt{v_{1}\\;^{2} + v_{2}\\;^{2} ... + v_{n}\\;^{2}}\\end{equation}\n",
        "\n",
        "In Python, *numpy* provides a linear algebra library named **linalg** that makes it easier to work with vectors - you can use the **norm** function in the following code to calculate the magnitude of a vector:"
      ]
    },
    {
      "cell_type": "code",
      "metadata": {
        "id": "kZZ2SrJ1uoyx",
        "colab_type": "code",
        "outputId": "eed70ebb-b8b6-4c19-fd6e-43af28799e1a",
        "colab": {
          "base_uri": "https://localhost:8080/",
          "height": 34
        }
      },
      "source": [
        "# Using inbuilt function for linear_algebra(linalg)\n",
        "p=np.array([1,3,2])\n",
        "pMag = np.linalg.norm(p)\n",
        "print (pMag)"
      ],
      "execution_count": 0,
      "outputs": [
        {
          "output_type": "stream",
          "text": [
            "3.7416573867739413\n"
          ],
          "name": "stdout"
        }
      ]
    },
    {
      "cell_type": "markdown",
      "metadata": {
        "id": "fLTDFG4xy6Ly",
        "colab_type": "text"
      },
      "source": [
        "### Calculating Direction\n",
        "To calculate the direction, or *amplitude*, of a vector from its cartesian coordinates, you must employ a little trigonometry. We can get the angle of the vector by calculating the *inverse tangent*; sometimes known as the *arctan* (the *tangent*  calculates an angle as a ratio - the inverse tangent, or **tan<sup>-1</sup>**, expresses this in degrees).\n",
        "\n",
        "In any right-angled triangle, the tangent is calculated as the *opposite* over the *adjacent*. In a two dimensional vector, this is the *y* value over the *x* value, so for our **v** vector (2,1):\n",
        "\n",
        "\\begin{equation}tan(\\theta) = \\frac{1}{2}\\end{equation}\n",
        "\n",
        "This produces the result ***0.5***, from which we can use a calculator to calculate the inverse tangent to get the angle in degrees:\n",
        "\n",
        "\\begin{equation}\\theta = tan^{-1} (0.5) \\approx 26.57^{o}\\end{equation}\n",
        "\n",
        "Note that the direction angle is indicated as ***&theta;***.\n",
        "\n",
        "\n",
        "\n",
        "There is an added complication however, because if the value for *x* or *y* (or both) is negative, the orientation of the vector is not standard, and a calculator can give you the wrong tan<sup>-1</sup> value. To ensure you get the correct direction for your vector, use the following rules:\n",
        "- Both *x* and *y* are positive: Use the tan<sup>-1</sup> value.\n",
        "- *x* is negative, *y* is positive: Add 180 to the tan<sup>-1</sup> value.\n",
        "- Both *x* and *y* are negative: Add 180 to the tan<sup>-1</sup> value.\n",
        "- *x* is positive, *y* is negative: Add 360 to the tan<sup>-1</sup> value.\n",
        "\n",
        "(research for the function that automatically makes the necessary adjustment for negative *x* and *y* values, so you don't need to do the above)"
      ]
    },
    {
      "cell_type": "markdown",
      "metadata": {
        "id": "p7tAdVD5uoy0",
        "colab_type": "text"
      },
      "source": [
        "\n",
        "### Q1- Calculate the direction of the vector ***v*** and ***p***(3-D, so directional cosine).\n",
        "\n",
        "\n",
        "\n"
      ]
    },
    {
      "cell_type": "markdown",
      "metadata": {
        "id": "J5kal4Rfuoy1",
        "colab_type": "text"
      },
      "source": [
        "## Vector Addition\n",
        "So far, we've worked with one vector at a time. What happens when you need to add two vectors.\n",
        "\n",
        "Let's take a look at an example, we already have a vector named ***v***, as defined here:\n",
        "\\begin{equation}\\vec{v} = \\begin{bmatrix}2 \\\\ 3 \\end{bmatrix}\\end{equation}\n",
        "Now let's create a second vector, and called ***s*** like this:\n",
        "\\begin{equation}\\vec{s} = \\begin{bmatrix}-3 \\\\ 2 \\end{bmatrix}\\end{equation}\n",
        "\n",
        "Run the cell below to create ***s*** and plot it together with ***v*** :\n",
        "\n",
        "\n"
      ]
    },
    {
      "cell_type": "code",
      "metadata": {
        "id": "NpihFI-K0Mfm",
        "colab_type": "code",
        "outputId": "5ecc2798-96c0-42a2-f867-b92e9decc855",
        "colab": {
          "base_uri": "https://localhost:8080/",
          "height": 306
        }
      },
      "source": [
        "# Showing two vector v(red) and s(blue)\n",
        "\n",
        "v = np.array([2,3])\n",
        "s = np.array([-3,2])\n",
        "print (s)\n",
        "\n",
        "# Plot v and s\n",
        "vecs = np.array([v,s])\n",
        "origin = [0], [0]\n",
        "plt.axis('equal')\n",
        "plt.grid()\n",
        "plt.ticklabel_format(style='sci', axis='both', scilimits=(0,0))\n",
        "plt.quiver(*origin, vecs[:,0], vecs[:,1], color=['r', 'b'], scale=10)\n",
        "plt.show()"
      ],
      "execution_count": 0,
      "outputs": [
        {
          "output_type": "stream",
          "text": [
            "[-3  2]\n"
          ],
          "name": "stdout"
        },
        {
          "output_type": "display_data",
          "data": {
            "image/png": "[encoded data removed]",
            "text/plain": [
              "<Figure size 432x288 with 1 Axes>"
            ]
          },
          "metadata": {
            "tags": []
          }
        }
      ]
    },
    {
      "cell_type": "code",
      "metadata": {
        "id": "m9CC7gXA0PmF",
        "colab_type": "code",
        "outputId": "5a119420-5a38-476f-ad47-81d7c86e5d32",
        "colab": {
          "base_uri": "https://localhost:8080/",
          "height": 52
        }
      },
      "source": [
        "vecs"
      ],
      "execution_count": 0,
      "outputs": [
        {
          "output_type": "execute_result",
          "data": {
            "text/plain": [
              "array([[ 2,  3],\n",
              "       [-3,  2]])"
            ]
          },
          "metadata": {
            "tags": []
          },
          "execution_count": 12
        }
      ]
    },
    {
      "cell_type": "code",
      "metadata": {
        "id": "avyDXdGf1BR9",
        "colab_type": "code",
        "outputId": "d8baca23-a923-45cf-c65d-45a40d8b761b",
        "colab": {
          "base_uri": "https://localhost:8080/",
          "height": 34
        }
      },
      "source": [
        "# X-axis value of both the vectors\n",
        "vecs[:,0]"
      ],
      "execution_count": 0,
      "outputs": [
        {
          "output_type": "execute_result",
          "data": {
            "text/plain": [
              "array([ 2, -3])"
            ]
          },
          "metadata": {
            "tags": []
          },
          "execution_count": 13
        }
      ]
    },
    {
      "cell_type": "code",
      "metadata": {
        "id": "wm42Ss-g1Dez",
        "colab_type": "code",
        "outputId": "2b8a52fb-78e0-49c5-a399-8aefb69cac86",
        "colab": {
          "base_uri": "https://localhost:8080/",
          "height": 34
        }
      },
      "source": [
        "# Y-axis value of both the vectors\n",
        "vecs[:,1]"
      ],
      "execution_count": 0,
      "outputs": [
        {
          "output_type": "execute_result",
          "data": {
            "text/plain": [
              "array([3, 2])"
            ]
          },
          "metadata": {
            "tags": []
          },
          "execution_count": 14
        }
      ]
    },
    {
      "cell_type": "markdown",
      "metadata": {
        "id": "LXQTVMLM1Vwr",
        "colab_type": "text"
      },
      "source": [
        "You can see in the plot that the two vectors have different directions and magnitudes. So what happens when we add them together?\n",
        "\n",
        "Here's the formula:\n",
        "\\begin{equation}\\vec{z} = \\vec{v}+\\vec{s}\\end{equation}\n",
        "\n",
        "In terms of our vector matrices, this looks like this:\n",
        "\\begin{equation}\\vec{z} = \\begin{bmatrix}2 \\\\ 3 \\end{bmatrix} + \\begin{bmatrix}-3 \\\\ 2 \\end{bmatrix}\\end{equation}\n",
        "\n",
        "Which gives the following result:\n",
        "\\begin{equation}\\vec{z} = \\begin{bmatrix}2 \\\\ 3 \\end{bmatrix} + \\begin{bmatrix}-3 \\\\ 2 \\end{bmatrix} = \\begin{bmatrix}-1 \\\\ 5 \\end{bmatrix}\\end{equation}\n",
        "\n",
        "Let's verify that Python gives the same result:"
      ]
    },
    {
      "cell_type": "code",
      "metadata": {
        "id": "gmaFP2VY1RsG",
        "colab_type": "code",
        "outputId": "d745955f-e97f-4402-eff1-b5c446be3b34",
        "colab": {
          "base_uri": "https://localhost:8080/",
          "height": 34
        }
      },
      "source": [
        "z=v+s\n",
        "print(z)"
      ],
      "execution_count": 0,
      "outputs": [
        {
          "output_type": "stream",
          "text": [
            "[-1  5]\n"
          ],
          "name": "stdout"
        }
      ]
    },
    {
      "cell_type": "code",
      "metadata": {
        "id": "XI86PU5r17S1",
        "colab_type": "code",
        "outputId": "90144cda-549c-4abe-ec33-27abda02ace8",
        "colab": {
          "base_uri": "https://localhost:8080/",
          "height": 268
        }
      },
      "source": [
        "# showing both vectors with resultant\n",
        "vecs = np.array([v,s,z])\n",
        "origin = [0], [0]\n",
        "plt.axis([-5,5,-1,6])\n",
        "plt.grid()\n",
        "plt.ticklabel_format(style='sci', axis='both', scilimits=(0,0))\n",
        "plt.quiver(*origin, vecs[:,0], vecs[:,1], color=['r', 'b', 'g'], scale=10)\n",
        "plt.show()"
      ],
      "execution_count": 0,
      "outputs": [
        {
          "output_type": "display_data",
          "data": {
            "image/png": "[encoded data removed]",
            "text/plain": [
              "<Figure size 432x288 with 1 Axes>"
            ]
          },
          "metadata": {
            "tags": []
          }
        }
      ]
    },
    {
      "cell_type": "markdown",
      "metadata": {
        "id": "_5O-sfoT6TPP",
        "colab_type": "text"
      },
      "source": [
        "# Vector Multiplication\n",
        "Vector multiplication can be performed in three ways:\n",
        "\n",
        "- Scalar Multiplication\n",
        "- Dot Product Multiplication\n",
        "- Cross Product Multiplication\n",
        "\n",
        "## Scalar Multiplication\n",
        "Let's start with *scalar* multiplication - in other words, multiplying a vector by a single numeric value.\n",
        "\n",
        "Suppose I want to multiply my vector by 2, which I could write like this:\n",
        "\n",
        "\\begin{equation} \\vec{w} = 2\\vec{v}\\end{equation}\n",
        "\n",
        "Note that the result of this calculation is a new vector named **w**. So how would we calculate this?\n",
        "Recall that **v** is defined like this:\n",
        "\n",
        "\\begin{equation}\\vec{v} = \\begin{bmatrix}2 \\\\ 1 \\end{bmatrix}\\end{equation}\n",
        "\n",
        "To calculate 2***v***, we simply need to apply the operation to each dimension value in the vector matrix, like this:\n",
        "\n",
        "\\begin{equation}\\vec{w} = \\begin{bmatrix}2 \\cdot 2 \\\\  2 \\cdot 1 \\end{bmatrix}\\end{equation}\n",
        "\n",
        "Which gives us the following result:\n",
        "\n",
        "\\begin{equation}\\vec{w} = \\begin{bmatrix}2 \\cdot 2 \\\\  2 \\cdot 1 \\end{bmatrix} = \\begin{bmatrix}4 \\\\ 2 \\end{bmatrix}\\end{equation}\n",
        "\n",
        "In Python, you can apply these sort of matrix operations directly to numpy arrays, so we can simply calculate **w** like this:"
      ]
    },
    {
      "cell_type": "code",
      "metadata": {
        "id": "3I059wPo6Vkq",
        "colab_type": "code",
        "outputId": "576fa7bf-22f3-4a70-ed13-9f1e955a49fe",
        "colab": {
          "base_uri": "https://localhost:8080/",
          "height": 324
        }
      },
      "source": [
        "# Scaling a vector\n",
        "v = np.array([2,1])\n",
        "\n",
        "w = 2 * v\n",
        "b=v/-2\n",
        "print(w)\n",
        "print(b)\n",
        "\n",
        "# Plot w\n",
        "vecs = np.array([w,v,b])\n",
        "origin = [0], [0]\n",
        "plt.grid()\n",
        "plt.ticklabel_format(style='sci', axis='both', scilimits=(0,0))\n",
        "plt.quiver(*origin,vecs[:,0], vecs[:,1], color=['r','b','g'], scale=10)\n",
        "plt.show()"
      ],
      "execution_count": 0,
      "outputs": [
        {
          "output_type": "stream",
          "text": [
            "[4 2]\n",
            "[-1.  -0.5]\n"
          ],
          "name": "stdout"
        },
        {
          "output_type": "display_data",
          "data": {
            "image/png": "[encoded data removed]",
            "text/plain": [
              "<Figure size 432x288 with 1 Axes>"
            ]
          },
          "metadata": {
            "tags": []
          }
        }
      ]
    },
    {
      "cell_type": "markdown",
      "metadata": {
        "id": "dJQPkaB37irr",
        "colab_type": "text"
      },
      "source": [
        "Red head showing the vector ***w*** (2 times scaled), blue one is ***v*** and green one is ***b*** (b=v/-2 -- so direction changes and compressed by factor of half)"
      ]
    },
    {
      "cell_type": "markdown",
      "metadata": {
        "id": "L48tVg7jBzoM",
        "colab_type": "text"
      },
      "source": [
        "## Dot Product Multiplication\n",
        "So we've seen how to multiply a vector by a scalar.\n",
        "\n",
        "To get a scalar product, we calculate the *dot product*. This takes a similar approach to multiplying a vector by a scalar, except that it multiplies each component pair of the vectors and sums the results. To indicate that we are performing a dot product operation, we use the &bull; operator:\n",
        "\n",
        "\\begin{equation} \\vec{v} \\cdot \\vec{s} = (v_{1} \\cdot s_{1}) + (v_{2} \\cdot s_{2}) ... + \\; (v_{n} \\cdot s_{n})\\end{equation}\n",
        "\n",
        "So for our vectors ***v*** (2,1) and ***s*** (-3,2), our calculation looks like this:\n",
        "\n",
        "\\begin{equation} \\vec{v} \\cdot \\vec{s} = (2 \\cdot -3) + (1 \\cdot 2) = -6 + 2 = -4\\end{equation}\n",
        "\n",
        "So the dot product, or scalar product, of ***v*** &bull; ***s*** is ***-4***.\n",
        "\n",
        "In Python, you can use the ***numpy.dot*** function to calculate the dot product of two vector arrays:"
      ]
    },
    {
      "cell_type": "code",
      "metadata": {
        "id": "JL8tmGBBBhJ4",
        "colab_type": "code",
        "outputId": "597beddf-f3cf-4f72-8fd5-e7b1c0781bbb",
        "colab": {
          "base_uri": "https://localhost:8080/",
          "height": 34
        }
      },
      "source": [
        "v = np.array([2,1])\n",
        "s = np.array([-3,2])\n",
        "d = np.dot(v,s)\n",
        "print (d)"
      ],
      "execution_count": 0,
      "outputs": [
        {
          "output_type": "stream",
          "text": [
            "-4\n"
          ],
          "name": "stdout"
        }
      ]
    },
    {
      "cell_type": "markdown",
      "metadata": {
        "id": "1zCdVMTJCAYJ",
        "colab_type": "text"
      },
      "source": [
        "In Python 3.5 and later, you can also use the **@** operator to calculate the dot product:"
      ]
    },
    {
      "cell_type": "code",
      "metadata": {
        "id": "M-vN7nyeB8As",
        "colab_type": "code",
        "outputId": "06ff9582-ac64-4311-dccd-9aa47cfcca92",
        "colab": {
          "base_uri": "https://localhost:8080/",
          "height": 34
        }
      },
      "source": [
        "v = np.array([2,1])\n",
        "s = np.array([-3,2])\n",
        "d = v@s\n",
        "print (d)"
      ],
      "execution_count": 0,
      "outputs": [
        {
          "output_type": "stream",
          "text": [
            "-4\n"
          ],
          "name": "stdout"
        }
      ]
    },
    {
      "cell_type": "markdown",
      "metadata": {
        "id": "pBs29XiaCG40",
        "colab_type": "text"
      },
      "source": [
        "### The Cosine Rule\n",
        "An useful property of vector dot product multiplication is that we can use it to calculate the cosine of the angle between two vectors. We could write the dot products as:\n",
        "\n",
        "$$ \\vec{v} \\cdot \\vec{s} = \\|\\vec{v} \\|\\|\\vec{s}\\| \\cos (\\theta) $$ \n",
        "\n",
        "Which we can rearrange as:\n",
        "\n",
        "$$ \\cos(\\theta) = \\frac{\\vec{v} \\cdot \\vec{s}}{\\|\\vec{v} \\|\\|\\vec{s}\\|} $$"
      ]
    },
    {
      "cell_type": "markdown",
      "metadata": {
        "id": "fzxBUUfYCQ3m",
        "colab_type": "text"
      },
      "source": [
        "### Q2. Find out the angle b/w ***v*** and ***s***, if\n",
        "​\n",
        "\\begin{equation}\\vec{v} = \\begin{bmatrix}3 \\\\ 2 \\end{bmatrix}\\end{equation} \n",
        "​\n",
        "\\begin{equation}\\vec{s} = \\begin{bmatrix}3 \\\\ -1 \\end{bmatrix}\\end{equation}"
      ]
    },
    {
      "cell_type": "code",
      "metadata": {
        "id": "ScX9xbr8CMuw",
        "colab_type": "code",
        "colab": {}
      },
      "source": [
        ""
      ],
      "execution_count": 0,
      "outputs": []
    },
    {
      "cell_type": "markdown",
      "metadata": {
        "id": "NbpGwaILeoyO",
        "colab_type": "text"
      },
      "source": [
        "## Cross Product Multiplication\n",
        "To get the *vector product* of multipying two vectors together, you must calculate the *cross product*. The result of this is a new vector that is at right angles to both the other vectors in 3D Euclidean space. This means that the cross-product only really makes sense when working with vectors that contain three components.\n",
        "\n",
        "For example, let's suppose we have the following vectors:\n",
        "\n",
        "\\begin{equation}\\vec{p} = \\begin{bmatrix}2 \\\\ 3 \\\\ 1 \\end{bmatrix}\\;\\; \\vec{q} = \\begin{bmatrix}1 \\\\ 2 \\\\ -2 \\end{bmatrix}\\end{equation}\n",
        "\n",
        "To calculate the cross product of these vectors, written as **p** x **q**, we need to create a new vector (let's call it **r**) with three components (r<sub>1</sub>, r<sub>2</sub>, and r<sub>3</sub>). The values for these components are calculated like this:\n",
        "\n",
        "\\begin{equation}r_{1} = p_{2}q_{3} - p_{3}q_{2}\\end{equation}\n",
        "\\begin{equation}r_{2} = p_{3}q_{1} - p_{1}q_{3}\\end{equation}\n",
        "\\begin{equation}r_{3} = p_{1}q_{2} - p_{2}q_{1}\\end{equation}\n",
        "\n",
        "So in our case:\n",
        "\n",
        "\\begin{equation}\\vec{r} = \\vec{p} \\times \\vec{q} = \\begin{bmatrix}(3 \\cdot -2) - (1 \\cdot 2) \\\\ (1 \\cdot 1) - (2 \\cdot -2) \\\\ (2 \\cdot 2) - (3 \\cdot 1) \\end{bmatrix} = \\begin{bmatrix}-6 - 2 \\\\ 1 - -4 \\\\ 4 - 3 \\end{bmatrix} = \\begin{bmatrix}-8 \\\\ 5 \\\\ 1 \\end{bmatrix}\\end{equation}\n",
        "\n",
        "In Python, you can use the ***numpy.cross*** function to calculate the cross product of two vector arrays:"
      ]
    },
    {
      "cell_type": "code",
      "metadata": {
        "id": "1pGw8ShvezpJ",
        "colab_type": "code",
        "outputId": "d720b3a5-0377-4276-f7a0-a3684751f5af",
        "colab": {
          "base_uri": "https://localhost:8080/",
          "height": 70
        }
      },
      "source": [
        "a1=np.array([2,3,1])\n",
        "a2=np.array([1,2,-2])\n",
        "print(\"a1=\",a1)\n",
        "print(\"a2=\",a2)\n",
        "a=np.cross(a1,a2)\n",
        "print(\"cross Product: a1 X a2 = \",a)"
      ],
      "execution_count": 0,
      "outputs": [
        {
          "output_type": "stream",
          "text": [
            "a1= [2 3 1]\n",
            "a2= [ 1  2 -2]\n",
            "cross Product: a1 X a2 =  [-8  5  1]\n"
          ],
          "name": "stdout"
        }
      ]
    },
    {
      "cell_type": "markdown",
      "metadata": {
        "id": "PgmJe-lWhBpv",
        "colab_type": "text"
      },
      "source": [
        ""
      ]
    },
    {
      "cell_type": "code",
      "metadata": {
        "id": "Yfp5V6mjfN2j",
        "colab_type": "code",
        "colab": {}
      },
      "source": [
        ""
      ],
      "execution_count": 0,
      "outputs": []
    }
  ]
}