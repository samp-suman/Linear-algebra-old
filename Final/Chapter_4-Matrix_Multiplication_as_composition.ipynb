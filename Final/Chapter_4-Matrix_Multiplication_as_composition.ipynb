{
  "nbformat": 4,
  "nbformat_minor": 0,
  "metadata": {
    "kernelspec": {
      "display_name": "Python 3",
      "language": "python",
      "name": "python3"
    },
    "language_info": {
      "codemirror_mode": {
        "name": "ipython",
        "version": 3
      },
      "file_extension": ".py",
      "mimetype": "text/x-python",
      "name": "python",
      "nbconvert_exporter": "python",
      "pygments_lexer": "ipython3",
      "version": "3.7.1"
    },
    "colab": {
      "name": "Chapter-4_Matrix Multiplication as composition.ipynb",
      "provenance": [],
      "collapsed_sections": [],
      "include_colab_link": true
    }
  },
  "cells": [
    {
      "cell_type": "markdown",
      "metadata": {
        "id": "view-in-github",
        "colab_type": "text"
      },
      "source": [
        "<a href=\"https://colab.research.google.com/github/samp-suman/My-Files/blob/master/Final/Chapter_4-Matrix_Multiplication_as_composition.ipynb\" target=\"_parent\"><img src=\"https://colab.research.google.com/assets/colab-badge.svg\" alt=\"Open In Colab\"/></a>"
      ]
    },
    {
      "cell_type": "code",
      "metadata": {
        "id": "A8pblFtax7vh",
        "colab_type": "code",
        "colab": {}
      },
      "source": [
        "import numpy as np\n",
        "import matplotlib.pyplot as plt"
      ],
      "execution_count": 0,
      "outputs": []
    },
    {
      "cell_type": "markdown",
      "metadata": {
        "id": "AWnRUHAtx7vo",
        "colab_type": "text"
      },
      "source": [
        "### Matrix Multiplication as composition\n",
        "\n",
        "As defined earlier matrix---\n",
        "\"Recap\"\n",
        "\n",
        "***What is matrix?***()\n",
        "\n",
        "As we see in the Linear transformation, 2-D transformation is completely described by just four numbers, the two-cordinates where ***$\\hat{i}$*** (x-basic vector) landed and the two-coprdinates where **$\\hat{j}$** (y-basic vector) landed after transformation and these four numbers are shown in a 2X2 Grid of numbers, called ***matrix*** where each column represents the landing of each basic vector keeping in mimd 1st one for ***$\\hat{i}$***  2nd for ***$\\hat{j}$***.\n",
        "\n",
        "And by multiplication of this matrix to any 2-D vector will result in the new transformed vector. \n",
        "\n",
        "***Ex-:***\n",
        "\n",
        "Let we have two the transformation of a vector($\\vec{v}=1\\hat{i}+2\\hat{j}$) first get  90°rotation then a shear.\n",
        "\n",
        "$\\Rightarrow$ so here is two matrix :-\n",
        "\n",
        "$\\begin{bmatrix} 0 & -1 \\\\ 1 & 0 \\end{bmatrix}\\quad and\\quad \\quad \\begin{bmatrix} 1 & 1 \\\\ 0 & 1 \\end{bmatrix}\\\\ \\quad \\nearrow \\quad \\quad \\quad \\quad \\quad \\quad \\quad \\quad \\nwarrow \\\\ Rotation\\quad \\quad \\quad \\quad \\quad \\quad \\quad Shear$\n",
        "\n",
        "for getting the complete transformation-- first rotate the vector($\\vec{v}$) and for doing that transformation multiply it with the **rotation** matrix then multiply the result with the **shear** matrix\n",
        "\n",
        "or, by multiply the **shear** and **rotation** matrix first and with the resultant matrix multiply the vector($\\vec{v}$).\n",
        "\n",
        "Here above the resultant of the **shear** and **rotation** matrix multiplication is the ***\"composition\".***\n",
        "\n",
        "$\\quad \\quad \\quad  \\vec{v_T}\\quad = \\quad\\begin{bmatrix} 1 & 1 \\\\ 0 & 1 \\end{bmatrix} \\dot\\quad \\begin{bmatrix} 0 & -1 \\\\ 1 & 0 \\end{bmatrix} \\dot \\quad\\begin{bmatrix} 1  \\\\ 2 \\end{bmatrix} $\n",
        "\n",
        "Here showing the result through python-- \n"
      ]
    },
    {
      "cell_type": "code",
      "metadata": {
        "id": "BMwTT9zAx7vq",
        "colab_type": "code",
        "outputId": "3dc211e2-6d3f-43c3-89c4-f8f7e8d92130",
        "colab": {}
      },
      "source": [
        "# Define vector v \n",
        "v = np.array([1,2])\n",
        "#v=np.reshape(b,(2,1))\n",
        "\n",
        "# Plots vector v as blue arrow with red dot at origin (0,0) using Matplotlib\n",
        "\n",
        "# Creates axes of plot referenced 'ax'\n",
        "ax = plt.axes()\n",
        "\n",
        "# Plots red dot at origin (0,0)\n",
        "ax.plot(0,0,'or')\n",
        "\n",
        "# Plots vector v as blue arrow starting at origin 0,0\n",
        "ax.arrow(0, 0, *v, color='b', linewidth=2.0, head_width=0.20, head_length=0.25)\n",
        "\n",
        "# Sets limit for plot for x-axis\n",
        "plt.xlim(-2,5)\n",
        "\n",
        "# Set major ticks for x-axis\n",
        "major_xticks = np.arange(-2, 6)\n",
        "ax.set_xticks(major_xticks)\n",
        "\n",
        "\n",
        "# Sets limit for plot for y-axis\n",
        "plt.ylim(-1, 5)\n",
        "\n",
        "# Set major ticks for y-axis\n",
        "major_yticks = np.arange(-1, 6)\n",
        "ax.set_yticks(major_yticks)\n",
        "\n",
        "# Creates gridlines for only major tick marks\n",
        "plt.grid(b=True, which='major')\n",
        "\n",
        "# Displays final plot\n",
        "plt.show()"
      ],
      "execution_count": 0,
      "outputs": [
        {
          "output_type": "display_data",
          "data": {
            "image/png": "[encoded data removed]",
            "text/plain": [
              "<Figure size 432x288 with 1 Axes>"
            ]
          },
          "metadata": {
            "tags": [],
            "needs_background": "light"
          }
        }
      ]
    },
    {
      "cell_type": "code",
      "metadata": {
        "id": "18S2GNkEx7vw",
        "colab_type": "code",
        "outputId": "979e8138-bf35-4815-efce-55018a8db015",
        "colab": {}
      },
      "source": [
        " # Right to left rule, transformed matrix= shear.(rotation.vector)\n",
        "## Applying rotation totation\n",
        "r=np.matrix([[0,-1],\n",
        "             [1,0]])# Rotation matrix\n",
        "v=np.matrix([[2],\n",
        "             [3]]) # Vector\n",
        "#vr=np.dot(v,r)\n",
        "v1=r*v # rotation applied=(rotation.vector)\n",
        "v1"
      ],
      "execution_count": 0,
      "outputs": [
        {
          "output_type": "execute_result",
          "data": {
            "text/plain": [
              "matrix([[-3],\n",
              "        [ 2]])"
            ]
          },
          "metadata": {
            "tags": []
          },
          "execution_count": 61
        }
      ]
    },
    {
      "cell_type": "code",
      "metadata": {
        "id": "mqJwsNTix7v0",
        "colab_type": "code",
        "outputId": "ca91d121-fd42-4da0-ce80-464a71248f01",
        "colab": {}
      },
      "source": [
        "# applying shear\n",
        "s=np.matrix([[1,1],\n",
        "             [0,1]])\n",
        "vt=s*v1 # shear.(rotation applied)\n",
        "vt# Resultant matrix"
      ],
      "execution_count": 0,
      "outputs": [
        {
          "output_type": "execute_result",
          "data": {
            "text/plain": [
              "matrix([[-1],\n",
              "        [ 2]])"
            ]
          },
          "metadata": {
            "tags": []
          },
          "execution_count": 60
        }
      ]
    },
    {
      "cell_type": "code",
      "metadata": {
        "id": "d73Kop0cx7v3",
        "colab_type": "code",
        "outputId": "b7429ed1-1406-4ec2-dd83-55f8c3a4bcca",
        "colab": {}
      },
      "source": [
        "# composition matrix shear.rotation\n",
        "c=s*r\n",
        "print(c)\n",
        "vt2=c*v #Applyin composition matrix on the vector\n",
        "vt2"
      ],
      "execution_count": 0,
      "outputs": [
        {
          "output_type": "stream",
          "text": [
            "[[ 1 -1]\n",
            " [ 1  0]]\n"
          ],
          "name": "stdout"
        },
        {
          "output_type": "execute_result",
          "data": {
            "text/plain": [
              "matrix([[-1],\n",
              "        [ 2]])"
            ]
          },
          "metadata": {
            "tags": []
          },
          "execution_count": 53
        }
      ]
    },
    {
      "cell_type": "markdown",
      "metadata": {
        "id": "4ZXqxYRyx7v8",
        "colab_type": "text"
      },
      "source": [
        "### Summing up the above things-\n",
        " Applying two transformation or more on a vector. then the composition is single MATRIX on applying which it shows the same result as of all the transformation over transformation does.\n",
        " \n",
        " like in above eg.- matrix **C** is the composition matrix.\n",
        " \n",
        " Here on general, for two transformation $M_1$ and then $M_2$, Composition is the multiplication of $M_1$ and  $M_2$ --- \n",
        " \n",
        " ***$\\\\ \\quad \\quad \\quad \\quad M_1\\quad \\quad \\quad \\quad \\quad \\quad \\quad M_2\\\\ \\quad \\quad \\overbrace { \\begin{bmatrix} a\\quad  & \\quad b \\\\ c\\quad  & \\quad d \\end{bmatrix} } \\quad \\quad \\quad \\overbrace { \\begin{bmatrix} e\\quad  & \\quad f \\\\ g\\quad  & \\quad h \\end{bmatrix}  } \\quad =\\quad \\begin{bmatrix} ae\\quad +\\quad bg\\quad  & \\quad af\\quad +\\quad bh \\\\ ce\\quad +\\quad dg\\quad  & \\quad cf\\quad +\\quad dh \\end{bmatrix}\\quad \\\\ $***\n",
        " \n",
        " *This is what the Matrix multiplication mean in linear algebra.*\n",
        " \n",
        " \n",
        " ### Associativity-\n",
        " For example if there is three transformation taking one after another, in order **$M_1,\\; M_2\\; and\\; M_3$** .\n",
        "\n",
        " \n",
        " $\\\\ \\quad \\quad \\quad \\quad M_1\\quad \\quad \\quad \\quad \\quad \\quad \\quad M_2\\quad \\quad \\quad \\quad \\quad \\quad \\quad M_3\\\\ \\quad \\quad \\overbrace { \\begin{bmatrix} a\\quad  & \\quad b \\\\ c\\quad  & \\quad d \\end{bmatrix} } \\quad \\quad \\quad \\overbrace { \\begin{bmatrix} e\\quad  & \\quad f \\\\ g\\quad  & \\quad h \\end{bmatrix}  }\\quad \\quad \\quad \\overbrace { \\begin{bmatrix} i\\quad  & \\quad j \\\\ k\\quad  & \\quad l \\end{bmatrix}  }$\n",
        " \n",
        " \n",
        "  Then,\n",
        "  \n",
        " $\\quad\\quad\\quad\\quad\\quad\\quad M_1.(M_2.M_3) = (M_1.M_2).M_3$"
      ]
    },
    {
      "cell_type": "code",
      "metadata": {
        "id": "_zztxT1Mx7v-",
        "colab_type": "code",
        "outputId": "629dae4f-b8a9-4ccb-f3db-d8ba273feabd",
        "colab": {}
      },
      "source": [
        "# Here another transformation having in order Rotaion, Shear then Reflection-- \n",
        "# Reflection transformation along y-axis--\n",
        "# reflection matrix:\n",
        "re=np.matrix([[-1,0],\n",
        "               [0,1]])\n",
        "s=np.matrix([[1,1],\n",
        "             [0,1]])\n",
        "r=np.matrix([[0,-1],\n",
        "             [1,0]])# Rotation matrix\n",
        "v=np.matrix([[2],\n",
        "             [3]]) # Vector\n",
        "# Now, composition\n",
        "\n",
        "c=r*s*re\n",
        "ve1=c*v\n",
        "print(ve1)"
      ],
      "execution_count": 0,
      "outputs": [
        {
          "output_type": "stream",
          "text": [
            "[[-3]\n",
            " [ 1]]\n"
          ],
          "name": "stdout"
        }
      ]
    },
    {
      "cell_type": "code",
      "metadata": {
        "id": "S0KF0mnUx7wB",
        "colab_type": "code",
        "outputId": "d318b904-5c6e-4ad5-c777-1705625dde40",
        "colab": {}
      },
      "source": [
        "# Associativity  proof-- (r * s) * re = r * (s * re)\n",
        "\n",
        "# L.H.S:-  (r * s) * re\n",
        "\n",
        "t1= r * s\n",
        "t = t1 * re\n",
        "ve1 = t * v\n",
        "print(\"\\nL.H.S :\\n \",ve1)\n",
        "\n",
        "# R.H.S:-  r * (s * re)\n",
        "\n",
        "\n",
        "t2=s*re\n",
        "t3=r*t2\n",
        "ve2=t3*v\n",
        "print(\"\\nR.H.S :\\n \",ve2)\n"
      ],
      "execution_count": 0,
      "outputs": [
        {
          "output_type": "stream",
          "text": [
            "\n",
            "L.H.S :\n",
            "  [[-3]\n",
            " [ 1]]\n",
            "\n",
            "R.H.S :\n",
            "  [[-3]\n",
            " [ 1]]\n"
          ],
          "name": "stdout"
        }
      ]
    },
    {
      "cell_type": "markdown",
      "metadata": {
        "id": "EvKFE9Qa99No",
        "colab_type": "text"
      },
      "source": [
        "## 3-D Linear transformation and composition-- Chapter-5\n",
        "\n",
        "In case of 3-D linear transfrormation, the difference is only that there comes an extra **z-axis** basic vector, \n",
        "***$\\hat{k},$***\n",
        "\n",
        "\n",
        "\n",
        "$\\quad \\quad \\quad \\quad \\quad \\quad \\quad \\quad \\quad \\quad \\quad \\quad \\quad\\vec{v}\\quad =\\quad \\begin{bmatrix} x\\\\y\\\\z\\end{bmatrix}$\n",
        "\n",
        "and all other things are similar to as of 2-D.\n",
        "\n",
        "\n",
        "The transformation composition goes like this -\n",
        "\n",
        "\n",
        "$\\quad \\quad \\quad \\quad \\quad M_{ 1 }\\quad \\quad \\quad \\quad \\quad  M_{ 2 }\\\\ \\quad \\quad \\overbrace { \\begin{bmatrix} a\\quad  & b & \\quad c \\\\ d\\quad  & e & \\quad f \\\\ g\\quad  & h & \\quad i \\end{bmatrix} } \\overbrace { \\begin{bmatrix} j\\quad  & k & \\quad l \\\\ m\\quad  & n & \\quad o \\\\ p\\quad  & q & \\quad r \\end{bmatrix} } \\quad =\\\\ $ \n",
        "\n",
        "\n",
        "$\\\\ \\\\ \\\\ \\\\ \\\\ \\quad \\quad \\quad \\quad \\quad \\quad \\quad \\quad \\quad \\begin{bmatrix} aj\\quad +\\quad bm\\quad +\\quad cp & \\quad \\quad ak\\quad +\\quad bn\\quad +\\quad cq & \\quad \\quad al\\quad +\\quad bo\\quad +\\quad cr \\\\ dj\\quad +\\quad em\\quad +\\quad fp & \\quad \\quad dk\\quad +\\quad en\\quad +\\quad fq & \\quad \\quad dl\\quad +\\quad eo\\quad +\\quad fr \\\\ gj\\quad +\\quad hm\\quad +\\quad ip & \\quad \\quad gk\\quad +\\quad hn\\quad +\\quad iq & \\quad \\quad gl\\quad +\\quad ho\\quad +\\quad ir \\end{bmatrix}\\quad$"
      ]
    },
    {
      "cell_type": "code",
      "metadata": {
        "id": "XlL4tj329_K1",
        "colab_type": "code",
        "colab": {}
      },
      "source": [
        ""
      ],
      "execution_count": 0,
      "outputs": []
    }
  ]
}