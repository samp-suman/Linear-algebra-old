{
 "cells": [
  {
   "cell_type": "code",
   "execution_count": 2,
   "metadata": {},
   "outputs": [],
   "source": [
    "import numpy as np\n"
   ]
  },
  {
   "cell_type": "markdown",
   "metadata": {},
   "source": [
    "# Linear combination of a vector:\n",
    "\n",
    "\n",
    "Any vector when we are defining, it depends on which \"basis vectors\" we are choosing.\n",
    "\n",
    "For example in general, if  $\\vec{v} = 3\\hat{i}+2\\hat{j}$ then here $\\vec{v}$ is the ***linear combination*** of the two basis vectors $\\hat{i} , \\hat{j}$ which are the unit vectors in ***x-axis*** and ***y-axis*** respectively.\n",
    "\n",
    "***Linear combination of two vectors:-***\n",
    "\n",
    "If any vector is defined as ***adding and scaling of two different vectors*** then that is called the linear combination of two vectors.\n",
    "Let any vector $\\vec{z} = a\\vec{v}+b\\vec{w}$, here $\\vec{z}$ is the vector which is 'addition' of ***a*** times scaling of $\\vec{v}$ and ***b*** times scaling of $\\vec{w}$.\n",
    "\n",
    "## Possibilities on Linear combination of two vectors:-\n",
    "\n",
    "1. In general all points of the plane can be reached on combination of the two vectors.\n",
    "2. if the two vectors are linear then only points on combination get limited on to the line.\n",
    "3. If the two vectors are zero vectors then only origin can be reached on linear combination.\n",
    "\n",
    "\n",
    "***Span :-***\n",
    "\n",
    "The set of all the linear combination of the two vectors is the \"span\" of that two vectors.\n",
    "\n",
    "***Note-*** In case of 3-d the only difference is - there is an extra basis vector in ***z-axis*** direction named as- $\\hat{k}$\n",
    "\n"
   ]
  },
  {
   "cell_type": "code",
   "execution_count": null,
   "metadata": {},
   "outputs": [],
   "source": []
  }
 ],
 "metadata": {
  "kernelspec": {
   "display_name": "Python 3",
   "language": "python",
   "name": "python3"
  },
  "language_info": {
   "codemirror_mode": {
    "name": "ipython",
    "version": 3
   },
   "file_extension": ".py",
   "mimetype": "text/x-python",
   "name": "python",
   "nbconvert_exporter": "python",
   "pygments_lexer": "ipython3",
   "version": "3.7.1"
  }
 },
 "nbformat": 4,
 "nbformat_minor": 2
}
